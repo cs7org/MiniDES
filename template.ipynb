{
 "cells": [
  {
   "cell_type": "markdown",
   "metadata": {},
   "source": [
    "## Microgrid simulator\n",
    "    Object-oriented light framework to run custom microgrid resources in lockstep and plot/aggregate results.\n",
    "    All units are s|W|Ws if not stated otherwise, more about conventions in the glossary.\n",
    "\n",
    "\n",
    "# Table of contents\n",
    "1. [Parameters](#si3Eitei)\n",
    "2. [Model toolset](#eid8ieWi)  \n",
    "3. [Tests](#Dei4Uezu)     \n",
    "3. [Example](#arg4Uezu)     \n",
    "4. [Appendix](#aeZae4ai)  \n",
    "    4.0. [Glossary](#aec2ieTe)  \n",
    "    4.1. [Notebook version](#aeDae4ai)  \n",
    "    4.2. [License](#aeZGe4ai)\n",
    "    "
   ]
  },
  {
   "cell_type": "markdown",
   "metadata": {},
   "source": [
    "### Model Toolset <a name=\"eid8ieWi\"></a>\n",
    "    Helper functions to build the model"
   ]
  },
  {
   "cell_type": "code",
   "execution_count": 1,
   "metadata": {},
   "outputs": [],
   "source": [
    "import math\n",
    "import random\n",
    "import time\n",
    "import os\n",
    "from collections import OrderedDict\n",
    "from collections.abc import Iterable\n",
    "\n",
    "import pickle\n",
    "import pandas as pd\n",
    "import numpy as np\n",
    "\n",
    "import matplotlib.pyplot as plt\n",
    "\n",
    "from IPython.core.debugger import set_trace#for ipdb\n",
    "from IPython.core.display import display, HTML, clear_output"
   ]
  },
  {
   "cell_type": "code",
   "execution_count": 2,
   "metadata": {},
   "outputs": [
    {
     "data": {
      "text/html": [
       "<style>.container { width:98% !important; }</style>"
      ],
      "text/plain": [
       "<IPython.core.display.HTML object>"
      ]
     },
     "metadata": {},
     "output_type": "display_data"
    }
   ],
   "source": [
    "display(HTML(\"<style>.container { width:98% !important; }</style>\"))#this cell width"
   ]
  },
  {
   "cell_type": "code",
   "execution_count": 3,
   "metadata": {},
   "outputs": [],
   "source": [
    "%matplotlib inline\n",
    "np.seterr(all='raise')\n",
    "plt.rcParams[\"figure.figsize\"] = (15,2.5)"
   ]
  },
  {
   "cell_type": "code",
   "execution_count": 4,
   "metadata": {
    "scrolled": true
   },
   "outputs": [],
   "source": [
    "VERBOSE = 0\n",
    "# control verbose level of simulation_load/store/init/run()\n",
    "#     0:= silent\n",
    "#     1:= stringify each resource each step\n",
    "#     2:= 1 with repr() instead of str()"
   ]
  },
  {
   "cell_type": "markdown",
   "metadata": {},
   "source": [
    "#### Parameters"
   ]
  },
  {
   "cell_type": "markdown",
   "metadata": {},
   "source": [
    "#### Helper functions and resources"
   ]
  },
  {
   "cell_type": "code",
   "execution_count": 5,
   "metadata": {},
   "outputs": [],
   "source": [
    "def to_kWh(E_in):\n",
    "    \"\"\"takes [Ws]\"\"\"\n",
    "    return E_in /1000 /3600\n",
    "def to_Ws(E_in):\n",
    "    \"\"\"takes [kWh]\"\"\"\n",
    "    return E_in *1000 *3600"
   ]
  },
  {
   "cell_type": "code",
   "execution_count": 6,
   "metadata": {},
   "outputs": [],
   "source": [
    "def get_params(param, ct_grp='', j=None):\n",
    "    \"\"\"Calculates given parameter p for each timestep k. It implements given formulas\n",
    "    takes param which is the parameter of interest, str\n",
    "    takes ct_grp which specifies the collection from the magg, defaults to all in R, str\n",
    "    takes j specifying the entity in the collection, defaults to all in ct_grp, int\n",
    "    returns param_k in 1,K-ndarray\n",
    "    no-side effects;\n",
    "    \"\"\"\n",
    "    param = param.upper()\n",
    "    if ct_grp == '' and j is not None:\n",
    "        raise ValueError(f'no ct_grp selected yet j={j} given')\n",
    "    if param == 'SDR':\n",
    "        if ct_grp == '':#lookup mrss\n",
    "            P_k_prod = get_power(ct_rs=None, ct_flow='prod')\n",
    "            P_k_cons = get_power(ct_rs=None, ct_flow='cons')\n",
    "            if P_k_prod is None:\n",
    "                P_k_prod = np.zeros( (Resource.K) )\n",
    "            if P_k_cons is None:\n",
    "                P_k_cons = np.zeros( (Resource.K) )\n",
    "            E_k_loss_grid = 0\n",
    "            SDR_k = np.ones( (Resource.K) )\n",
    "            dividend = (-1 * P_k_cons + E_k_loss_grid)\n",
    "            np.divide(P_k_prod, dividend, out=SDR_k, where=dividend!=0)#to go around ZeroDivisionError\n",
    "            return SDR_k\n",
    "        else:\n",
    "            P_k_prod_ = get_power_grp(ct_grp, j=j, ct_rs=None, ct_flow='prod')#j=(j or None), indicated by _\n",
    "            P_k_cons_ = get_power_grp(ct_grp, j=j, ct_rs=None, ct_flow='cons')\n",
    "            SDR_k_ = np.ones( (Resource.K) )\n",
    "            dividend = (-1 * P_k_cons_)\n",
    "            np.divide(P_k_prod_, dividend, out=SDR_k_, where=dividend!=0)\n",
    "            return SDR_k_\n",
    "    elif param == 'SSR':\n",
    "        SDR_k_ = get_params('SDR', ct_grp, j)\n",
    "        return np.where(SDR_k_ <= 1, SDR_k_, 1) \n",
    "    elif param == 'SCR':\n",
    "        SDR_k_ = get_params('SDR', ct_grp, j)\n",
    "        return np.where(SDR_k_ >= 1, 1/SDR_k_, 1)\n",
    "    elif param == 'RCR':\n",
    "        if ct_grp == '':\n",
    "            P_k_prod = get_power(ct_rs=None, ct_flow='prod')\n",
    "            P_k_cons = get_power(ct_rs=None, ct_flow='cons')\n",
    "            if P_k_prod is None:\n",
    "                P_k_prod = np.zeros( (Resource.K) )\n",
    "            if P_k_cons is None:\n",
    "                P_k_cons = np.zeros( (Resource.K) )\n",
    "            P_k_res = np.absolute(P_k_prod + P_k_cons)\n",
    "            P_k_res_abs = np.absolute(P_k_prod) + np.absolute(P_k_cons)\n",
    "            out = np.zeros( (Resource.K) )\n",
    "            np.divide(P_k_res, P_k_res_abs, out=out, where=P_k_res_abs!=0)\n",
    "            return 1 - out\n",
    "        else:\n",
    "            P_k_prod_ = get_power_grp(ct_grp, j=j, ct_rs=None, ct_flow='prod')\n",
    "            P_k_cons_ = get_power_grp(ct_grp, j=j, ct_rs=None, ct_flow='cons')\n",
    "            P_k_res_ = np.absolute(P_k_prod_ + P_k_cons_)\n",
    "            P_k_res_abs_ = np.absolute(P_k_prod_) + np.absolute(P_k_cons_)\n",
    "            out = np.zeros( (Resource.K) )\n",
    "            np.divide(P_k_res_, P_k_res_abs_, out=out, where=P_k_res_abs_!=0)\n",
    "            return 1 - out\n",
    "    else:\n",
    "        raise NotImplementedError(f'{param}')\n",
    "        \n",
    "def get_param(param, ct_grp='', j=None):\n",
    "    \"\"\"Calculates given parameter p for the simulated time; implements given formulas\n",
    "    takes param which is the parameter of interest, str\n",
    "    takes ct_grp which specifies the collection from the magg, defaults to all in R, str\n",
    "    takes j specifying the entity in the collection, defaults to all in ct_grp, int\n",
    "    returns param value\n",
    "    side effects: reads from current mdata\n",
    "    \"\"\"\n",
    "    param = param.upper()\n",
    "    if ct_grp == '' and j is not None:\n",
    "        raise ValueError(f'no ct_grp selected yet j={j} not None')\n",
    "    if param == 'SDR':\n",
    "        return np.mean(get_params(param, ct_grp, j))\n",
    "    elif param == 'SSR':\n",
    "        if ct_grp == '':\n",
    "            P_k_res = get_power()\n",
    "            P_k_res_cons = np.where(P_k_res < 0, P_k_res, 0)\n",
    "            P_k_cons = get_power(ct_flow='cons')\n",
    "            if np.sum(P_k_cons) != 0:\n",
    "                return 1 - np.sum(P_k_res_cons) / np.sum(P_k_cons)\n",
    "        else:#calc is equal to: (pv+dch)/(ld+ch+inv_loss), es loss is to be excl.\n",
    "            P_k_res_ = get_power_grp(ct_grp, j=j)\n",
    "            P_k_res_cons_ = np.where(P_k_res_ < 0, P_k_res_, 0)\n",
    "            P_k_cons_ = get_power_grp(ct_grp, j=j, ct_flow='cons')\n",
    "            if np.sum(P_k_cons_) != 0:\n",
    "                return 1 - np.sum(P_k_res_cons_) / np.sum(P_k_cons_)\n",
    "        return 1#no cons means no res_cons\n",
    "    elif param == 'SCR':\n",
    "        if ct_grp == '':\n",
    "            P_k_res = get_power()\n",
    "            P_k_res_prod = np.where(P_k_res > 0, P_k_res, 0)\n",
    "            P_k_prod = get_power(ct_flow='prod')\n",
    "            if np.sum(P_k_prod) != 0:\n",
    "                return 1 - np.sum(P_k_res_prod) / np.sum(P_k_prod)\n",
    "        else:\n",
    "            P_k_res_ = get_power_grp(ct_grp, j=j)\n",
    "            P_k_res_prod_ = np.where(P_k_res_ > 0, P_k_res_, 0)\n",
    "            P_k_prod_ = get_power_grp(ct_grp, j=j, ct_flow='prod')\n",
    "            if np.sum(P_k_prod_) != 0:\n",
    "                return 1 - np.sum(P_k_res_prod_) / np.sum(P_k_prod_)\n",
    "        return 1#no prod means no res_prod\n",
    "    elif param == 'RCR':\n",
    "        return np.mean(get_params(param, ct_grp, j))\n",
    "    elif param == 'GUR':\n",
    "        if ct_grp == '':\n",
    "            raise NotImplementedError(f'{param}: choose ct_grp')\n",
    "        else:\n",
    "            P_k_J_res = np.zeros( (Resource.K) )\n",
    "            P_k_RJ_res = np.zeros( (Resource.K) )\n",
    "            if j is None:#all j\n",
    "                j_ = range(len(magg[ct_grp]))\n",
    "            else:#one j\n",
    "                j_ = [j]\n",
    "            for j__ in j_:\n",
    "                P_k_J_res += np.absolute(get_power_grp(ct_grp, j=j__))\n",
    "                P_k_RJ_res += get_power_grp(ct_grp, j=j__, ct_flow='prod')\n",
    "                P_k_RJ_res += get_power_grp(ct_grp, j=j__, ct_flow='cons')*-1\n",
    "            if P_k_RJ_res.sum() != 0:\n",
    "                return P_k_J_res.sum() / P_k_RJ_res.sum()\n",
    "        return 1#no RJ_res means no J_res, since |x|+|y| is 0, so is |x+y|\n",
    "    else:\n",
    "        raise NotImplementedError(f'{param}')        "
   ]
  },
  {
   "cell_type": "code",
   "execution_count": 7,
   "metadata": {
    "scrolled": true
   },
   "outputs": [],
   "source": [
    "def arc_to_deg(arc):\n",
    "    \"\"\"convert spherical arc length [m] to great circle distance [deg]\"\"\"\n",
    "    return float(arc)/6371/1000 * 180/math.pi\n",
    "\n",
    "def deg_to_arc(deg):\n",
    "    \"\"\"convert great circle distance [deg] to spherical arc length [m]\"\"\"\n",
    "    return float(deg)*6371*1000 * math.pi/180\n",
    "\n",
    "def latlon_to_xyz(lat,lon):\n",
    "    \"\"\"Convert angluar to cartesian coordiantes\n",
    "     \n",
    "    latitude is the 90deg - zenith angle in range [-90;90]\n",
    "    lonitude is the azimuthal angle in range [-180;180] \n",
    "    \"\"\"\n",
    "    r = 6371 # https://en.wikipedia.org/wiki/Earth_radius\n",
    "    theta = math.pi/2 - math.radians(lat) \n",
    "    phi = math.radians(lon)\n",
    "    x = r * math.sin(theta) * math.cos(phi) # bronstein (3.381a)\n",
    "    y = r * math.sin(theta) * math.sin(phi)\n",
    "    z = r * math.cos(theta)\n",
    "    return [x,y,z]\n",
    "\n",
    "def xyz_to_latlon (x,y,z):\n",
    "    \"\"\"Convert cartesian to angular lat/lon coordiantes\"\"\"\n",
    "    r = math.sqrt(x**2 + y**2 + z**2)\n",
    "    theta = math.asin(z/r) # https://stackoverflow.com/a/1185413/4933053\n",
    "    phi = math.atan2(y,x)\n",
    "    lat = math.degrees(theta)\n",
    "    lon = math.degrees(phi)\n",
    "    return [lat,lon]\n",
    "\n",
    "def gen_coords(seed, N, center=(500,500), edge=1000, is_latlon=False):\n",
    "    \"\"\"Generates batch of coords inside a square\n",
    "    with specified edge length [m] and its center\n",
    "    \n",
    "    takes seed to reproduce batch, int\n",
    "    takes N is batch size of tupels\n",
    "    takes center of square, [m]\n",
    "    takes edge length of square\n",
    "    takes is_latlon bool flag\n",
    "    returns N,2 ndarray\n",
    "    \"\"\"\n",
    "    half_edge = (float(edge) / 2)\n",
    "    if is_latlon:\n",
    "        half_edge /= (6371 * 1000 * math.pi/180)#to deg\n",
    "        if abs(center[0])+ half_edge > 90:#reject unhandled corner-cases\n",
    "            raise ValueError('bad lat center due to cornercase')\n",
    "        if abs(center[1])+ half_edge > 180:\n",
    "            raise ValueError('bad lon center due to cornercase')\n",
    "    np.random.seed(seed)#to reproduce batch\n",
    "    batch = np.random.random(2 * N).reshape(2, N)#[0;1[\n",
    "    batch[0] = (center[0] - half_edge) + batch[0] * half_edge * 2\n",
    "    batch[1] = (center[1] - half_edge) + batch[1] * half_edge * 2\n",
    "    return batch.transpose()\n",
    "\n",
    "def center_point(resources):\n",
    "    \"\"\"calculate the coordinate center of rss batch\n",
    "    \n",
    "    takes resources list\n",
    "    each dimension is averaged on arithmetic mean\n",
    "    returns the center (x,y,z)\n",
    "    (if: for latlon see geopy.distance.great_circle or geopy.geocoders)\n",
    "    \"\"\"\n",
    "    center = [0,0,0]\n",
    "    for rs in resources:\n",
    "        xyz = latlon_to_xyz(rs.cord2, rs.cord1)\n",
    "        center[0] += xyz[0]\n",
    "        center[1] += xyz[1] \n",
    "        center[2] += xyz[2]\n",
    "    center[:] = [axis / len(resources) for axis in center]\n",
    "    return center"
   ]
  },
  {
   "cell_type": "code",
   "execution_count": 8,
   "metadata": {},
   "outputs": [],
   "source": [
    "def sample_sinus(steps, period=2*math.pi, phase=0, amp=1, offset=0):\n",
    "    \"\"\"Sample specified sinus-wave into array\n",
    "    \n",
    "    takes period and phase in radians;\n",
    "    takes amplitude and offset to scale and move up/down\n",
    "    returns flat ndarray of steps length\n",
    "    \"\"\"\n",
    "    assert steps != 0\n",
    "    samples = np.zeros( (steps) , dtype=np.float64)#default\n",
    "    step_size = period / steps\n",
    "    for i in range(steps):\n",
    "        samples[i] = amp * math.sin(phase + step_size * i) + offset\n",
    "    return samples\n",
    "\n",
    "def sample_recs(recs, repeat=1):\n",
    "    \"\"\"Builds rectangular pattern\n",
    "    \n",
    "    takes recs in .,3 ndarray used to build the pattern\n",
    "        start,length are non-negative integers\n",
    "        amp is integer\n",
    "        eg [[start,length,amp],[0,4,2],[2,1,-1]]\n",
    "    takes repeat to concat the period repeat times\n",
    "    returns flat ndarray with specified pulse\n",
    "    \"\"\"\n",
    "    size = recs[:,:2].sum(1).max()#number of elements \n",
    "    pattern = np.zeros( (size) )\n",
    "    for rec in recs:\n",
    "        start = rec[0]\n",
    "        end = rec[0] + rec[1]\n",
    "        amp = rec[2]\n",
    "        pattern[start:end] += amp\n",
    "    return np.tile(pattern, repeat)#clone and concat"
   ]
  },
  {
   "cell_type": "code",
   "execution_count": 9,
   "metadata": {},
   "outputs": [],
   "source": [
    "def get_rss(ct_grp, j=None, ct_rs=None):\n",
    "    \"\"\"Access helper to return resources by j\n",
    "    takes ct_grp which is a key from magg, str\n",
    "    takes j the positional index the entity has in the magg, None is all, int\n",
    "    takes ct_rs to include only resources of this category, None is all, str\n",
    "        eg get_rss('hh', 1, 'es') \n",
    "            gets prosumed power es of second entity in magg['hh']\n",
    "    returns list of resources of j/all and [] if no such resource(s)\n",
    "    side-effect: reads from mrss,magg,mmap\n",
    "    \"\"\"\n",
    "    ret_val = []\n",
    "    if j is None:#get rss of all j\n",
    "        allr_of_js = magg[ct_grp]\n",
    "    else:#get rss of j\n",
    "        allr_of_js = [magg[ct_grp][j]]\n",
    "    for allr_of_j in allr_of_js:\n",
    "        for r in allr_of_j:\n",
    "            if r not in mmap:\n",
    "                raise KeyError(f'magg[{j}] has r={r}, which is not in mrss')\n",
    "            location = mmap[r]\n",
    "            rs = mrss[location[0]][location[1]]\n",
    "            if ct_rs is not None and ct_rs != rs.ct:\n",
    "                continue\n",
    "            ret_val.append(rs)\n",
    "    return ret_val\n",
    "    \n",
    "def get_power(ct_rs=None, ct_flow=None):\n",
    "    \"\"\"Access helper to aggregate resource logs \n",
    "    takes ct_rs to include only resources of this category, None is all, str\n",
    "        if ct_rs does not exist, power returned 0 and no raise\n",
    "    takes ct_flow to include only 'prod' or 'cons', None is both, str\n",
    "        eg get_power('es') \n",
    "            gets prosumed power of all es\n",
    "    returns power in 1,K ndarray, and 1,K zeros if no such resource(s)\n",
    "    side-effect: reads from mrss\n",
    "    \"\"\"\n",
    "    ret_val = np.zeros( (Resource.K) )\n",
    "    for key, value in mrss.items():\n",
    "        for rs in value:\n",
    "            if ct_rs is not None and ct_rs != rs.ct:#wrong rs type\n",
    "                continue\n",
    "            if rs.log_index_P is None:\n",
    "                #print('log_index_P',rs)#prints eg inverters\n",
    "                continue\n",
    "            tmp = rs.view[rs.log_index_P]#select power\n",
    "            if ct_flow is None:\n",
    "                ret_val += tmp\n",
    "            elif ct_flow == 'prod':\n",
    "                ret_val += np.where(tmp > 0, tmp, 0)\n",
    "            elif ct_flow == 'cons':\n",
    "                ret_val += np.where(tmp < 0, tmp, 0)\n",
    "            else:\n",
    "                raise ValueError(f\"no such flow '{ct_flow}'\")\n",
    "    return ret_val\n",
    "    \n",
    "def get_power_grp(ct_grp, j=None, ct_rs=None, ct_flow=None):\n",
    "    \"\"\"Access helper to aggregate resource logs by j\n",
    "    takes ct_grp which is a key from magg, str\n",
    "    takes j the positional index the entity has in the magg, None is all, int\n",
    "    takes ct_rs to include only resources of this category, None is all, str\n",
    "    takes ct_flow to include only 'prod' or 'cons', None is both, str\n",
    "        eg get_power_grp('hh', 1, 'es') \n",
    "            gets prosumed power es of second hh in magg['hh']\n",
    "    returns power in 1,K ndarray, and 1,K zeros if no such resource(s)\n",
    "    side-effect: reads from mrss,magg,mmap\n",
    "    \"\"\"\n",
    "    if ct_grp not in magg:\n",
    "        raise ValueError(f\"ct_grp '{ct_grp}' not in magg\")\n",
    "    ret_val = np.zeros( (Resource.K) )\n",
    "    if j is None:#get rss of all j\n",
    "        allr_of_js = magg[ct_grp]\n",
    "    else:#get rss of j\n",
    "        allr_of_js = [magg[ct_grp][j]]\n",
    "    for allr_of_j in allr_of_js:\n",
    "        for r in allr_of_j:\n",
    "            if r not in mmap:\n",
    "                raise KeyError(f'magg[{j}] has r={r}, which is not in mrss')\n",
    "            location = mmap[r]\n",
    "            rs = mrss[location[0]][location[1]]\n",
    "            if ct_rs is not None and ct_rs != rs.ct:\n",
    "                continue\n",
    "            if rs.log_index_P is None:\n",
    "               # print('log_index_P',rs)\n",
    "                continue\n",
    "            tmp = rs.view[rs.log_index_P]#select power\n",
    "            if ct_flow is None:\n",
    "                ret_val += tmp\n",
    "            elif ct_flow == 'prod':\n",
    "                ret_val += np.where(tmp > 0, tmp, 0)\n",
    "            elif ct_flow == 'cons':\n",
    "                ret_val += np.where(tmp < 0, tmp, 0)\n",
    "            else:\n",
    "                raise ValueError(f\"no such flow '{ct_flow}'\")\n",
    "    return ret_val"
   ]
  },
  {
   "cell_type": "code",
   "execution_count": 10,
   "metadata": {},
   "outputs": [],
   "source": [
    "def plot_cords(rsss, colors=None, is_latlon=False):\n",
    "    \"\"\"plots resources by their geospatial coordinates\n",
    "    \n",
    "    takes rsss list of resource lists, eg [[pv0,pv1,..],[ld]]\n",
    "    takes colors list, strings from matplotlib eg ['red','green',..]\n",
    "    takes is_latlon flag, bool\n",
    "    each rss list is offset to prevent overpainting dots\n",
    "    \"\"\"\n",
    "    fig, axs = plt.subplots(nrows=1, ncols=1, figsize=(4,4))\n",
    "    for rss,m in zip(rsss, range(len(rsss))):\n",
    "        cords = np.zeros( (len(rss), 2) )\n",
    "        for i in range(len(rss)):\n",
    "            cords[i] = [rss[i].cord1+m*3, rss[i].cord2+m*3]\n",
    "        if colors is None:\n",
    "            plt.scatter(cords[:,0], cords[:,1])\n",
    "        else:\n",
    "            if len(colors) != len(rsss):\n",
    "                raise ValueError(f'number of colors dont match number of rss')\n",
    "            plt.scatter(cords[:,0], cords[:,1], color=colors[m])\n",
    "    axs.set_aspect('equal')\n",
    "    axs.grid(True)\n",
    "    axs.set_title('resource locations [cord1, cord2]')\n",
    "    if is_latlon == True:\n",
    "        xticks = ax.get_xticks()\n",
    "        yticks = ax.get_yticks()\n",
    "        print((f'x_resolution {deg_to_arc(xticks[2] - xticks[1]):.0f}m ' +\n",
    "              f'y_resolution {deg_to_arc(yticks[2] - yticks[1]):.0f}m'))\n",
    "    plt.show()\n",
    "\n",
    "def plot_logs(rss=[], nums=[], titles=[], use_area=True):\n",
    "    \"\"\"Plots one log per given resource. wraps plot_bar\n",
    "    takes rss resources, list\n",
    "    takes nums to pick one log of the resource at the same rss position, list\n",
    "    takes titles for log, optional, list of strings\n",
    "    takse use_area for fast area plot instead of bars, bool\n",
    "    \"\"\"\n",
    "    if type(rss) != list:\n",
    "        raise TypeError(f'rss bad type {type(rss)}')\n",
    "    if type(nums) != list:\n",
    "        raise TypeError(f'nums bad type {type(nums)}')\n",
    "    if len(rss) != len(nums):\n",
    "        raise ValueError(f'length not equal rss:{len(rss)} nums:{len(nums)}')\n",
    "    if len(titles) < len(rss):\n",
    "        titles.extend(['']*(len(rss)-len(titles)))\n",
    "    for rs, num in zip(rss, nums):\n",
    "        if num >= len(rs.log_titles):\n",
    "            print(f'num {num} out of bounds for {rs}')\n",
    "    logs =  [None] * len(rss)\n",
    "    for i,rs,idc,title in zip(range(len(rss)), rss, nums, titles):#pull logs out of rss\n",
    "        logs[i] = rs.view[idc]\n",
    "        titles[i] = rs.log_titles[idc] + ' ' + title\n",
    "    plot_bar(logs, titles, use_area)\n",
    "\n",
    "def plot_bar(ys=[[]], titles=[''], use_area=False):\n",
    "    \"\"\"Plots multiple data series. wraps pyplot bar\n",
    "    takes list of y lists, eg [[1,2], [3,4]]\n",
    "    takes titles which get appended to each plot title; list of str\n",
    "    takes use_area to use area instead of bars, boolean\n",
    "    \"\"\"\n",
    "    if not isinstance(ys[0], Iterable):\n",
    "        raise TypeError(f\"'ys' not a list of lists, wrap even one y, eg [[1,2],], have {type(ys[0])}\")\n",
    "    if not isinstance(titles[0], Iterable):\n",
    "        raise TypeError(f\"'titles' not a list of lists, wrap even on one y, eg [[1,2],], have {type(titles[0])}\")\n",
    "    if len(titles) < len(ys):#extend for zip\n",
    "        titles.extend('-' * (len(ys)-len(titles)))\n",
    "\n",
    "    fig, axs = plt.subplots(len(ys),1, figsize=(15,len(ys)*2.5), sharex=True)\n",
    "    if not isinstance(axs,np.ndarray):\n",
    "        axs = np.array( [axs] )\n",
    "    for ax,y,title in zip(axs,ys,titles):\n",
    "        ax.set_title(title)\n",
    "        x = np.arange(len(y))\n",
    "        if use_area:\n",
    "            ax.fill_between(x, y, color='blue', alpha=0.3)\n",
    "        else:\n",
    "            ax.bar(x, y, width=1, align='edge', color='ghostwhite', edgecolor='grey')\n",
    "    plt.show()            "
   ]
  },
  {
   "cell_type": "code",
   "execution_count": 11,
   "metadata": {},
   "outputs": [],
   "source": [
    "def print_(keys_values):\n",
    "    \"\"\"verbose helper\"\"\"\n",
    "    line = ''\n",
    "    for key,value in keys_values:\n",
    "        if VERBOSE == 1:\n",
    "            line += f'{key}={value}, '\n",
    "        elif VERBOSE == 2:\n",
    "            line += f'{repr(key)}={repr(value)}, '\n",
    "    if line:\n",
    "        print(line)\n",
    "\n",
    "def _views_to_mrss(mdata):\n",
    "    \"\"\"used internally, see function simulation_load\"\"\"\n",
    "    r_set = set()\n",
    "    for key, value in mrss.items():#set data\n",
    "        for i in range(len(value)):\n",
    "            view = mdata[key][i]#get slice of cuboid\n",
    "            mrss[key][i].set_view(view)#set to resource\n",
    "            if value[i].r in r_set:#check that r is unique\n",
    "                raise ValueError(f'r of {value[i]} already in use')\n",
    "            else:\n",
    "                r_set.add(value[i].r)\n",
    "            print_([[key, mrss[key][i]]])#ct_grp_rs\n",
    "            \n",
    "def simulation_load(name):\n",
    "    \"\"\"push views of mdata into each resource\n",
    "    \n",
    "    takes name of binary file in load_store folder to load logs from.\n",
    "    ensure to have the same mrss/rs structure in place \n",
    "    from when it got saved, else mdata mismatches and errors.\n",
    "    rs internal states, except number of logs are irrelevant.\n",
    "    same mmap,magg not needed except when calling helpers, eg get_power\n",
    "    side-effect: writes to mrss,mdata\n",
    "    \"\"\"\n",
    "    global mdata\n",
    "    with open('load_store/' + name,\"rb\") as f:\n",
    "        mdata = pickle.load(f) \n",
    "    _views_to_mrss(mdata)\n",
    "            \n",
    "def simulation_store(name): \n",
    "    \"\"\"saves mdata to file\n",
    "    \n",
    "    takes name to create file in load_store folder to binary dump.\n",
    "    overwrites existing file \n",
    "    \"\"\"\n",
    "    with open('load_store/' + name,\"wb\") as f:\n",
    "        pickle.dump(mdata,f)\n",
    "            \n",
    "def simulation_init():\n",
    "    \"\"\"Generates references alias numpy-views from the data model\n",
    "    and saves them to each resource in the resource model.\n",
    "        eg mrss['hh_ld'][0].view[1] --views--> mdata['hh_ld'][0][1]\n",
    "        \n",
    "    Also generates lookup table mmap used internally for 'no-search'\n",
    "    in helper functions when associating resources to collections in magg.\n",
    "    returns mdata, mmap\n",
    "    side-effect: reads mdata, writes mrss\n",
    "    \"\"\"\n",
    "    mdata = {}\n",
    "    for key, value in mrss.items():#allocate data\n",
    "        if len(value) == 0:\n",
    "            print(f'please remove empty key {key} from mrss')\n",
    "        cuboid = np.zeros( (len(mrss[key]), len(mrss[key][0].log_titles), Resource.K) )\n",
    "        mdata[key] = cuboid\n",
    "    _views_to_mrss(mdata)\n",
    "    \n",
    "    mmap = {}\n",
    "    for key, value in mrss.items():#access map\n",
    "        for i in range(len(value)):\n",
    "            location = (key, i)\n",
    "            mmap[value[i].r] = location\n",
    "    return mdata, mmap        \n",
    "\n",
    "def jump_back(k):\n",
    "    \"\"\"Calls jump() on each rs,\n",
    "    errors if at least one rs did not overwrite base class\n",
    "    \"\"\"\n",
    "    for key, value in mrss.items():\n",
    "        for rs in value:\n",
    "            print_([['k',k], [key, rs]])\n",
    "            rs.jump(Control.jump_to_k)\n",
    "    return Control.jump_to_k, None#reset flag\n",
    "            \n",
    "def simulation_run(up_to_k, clear_output_=True):\n",
    "    \"\"\"Runs the simulation for simulated_time = K * kclock\n",
    "    takes up_to_k to run the simulation up to but excluding this value, int\n",
    "    side-effect write/read on mdata/mrss\n",
    "    \"\"\"\n",
    "    if 'ctrl' in mrss and next(iter(mrss.keys())) != 'ctrl':\n",
    "        raise KeyError(f\"key 'ctrl' in dict not first\")\n",
    "        \n",
    "    k = 0#global counter\n",
    "    time_start = time.time() \n",
    "    for key, value in mrss.items():#init round\n",
    "        for rs in value:\n",
    "            rs.init()\n",
    "            print_([['init','-'], [key, rs]])\n",
    "    while k < up_to_k:\n",
    "        for key, value in mrss.items():#rs step ahead of global count\n",
    "            for rs in value:\n",
    "                print_([['k',k], [key, rs]])\n",
    "                rs.step(k)#local step\n",
    "        if clear_output_:\n",
    "            clear_output(wait=True)\n",
    "        time_yet = (time.time() - time_start) / (k+1) * (up_to_k-k-1)#[s] elapsed time per step * steps_yet\n",
    "        print(f'progress k {k}  {k+1}/{up_to_k} {(k+1)/up_to_k*100:.0f}%  rem {time_yet/60:.2f}m')                \n",
    "        k += 1#progress global time\n",
    "        if Control.jump_to_k is not None:#jump requested\n",
    "            k,Control.jump_to_k = jump_back(k)\n",
    "    for key, value in mrss.items():#ended round, k == up_to_k\n",
    "        for rs in value:\n",
    "            rs.end(k)\n",
    "            print_([['k',k], [key, rs]])"
   ]
  },
  {
   "cell_type": "code",
   "execution_count": 12,
   "metadata": {},
   "outputs": [],
   "source": [
    "class Resource:\n",
    "    \"\"\"Base class to build grid components. \n",
    "    Each resource has a unique number r and is at simulation step _k.\n",
    "    The time-log aggregates simulation results for later analysis.\n",
    "    \"\"\"\n",
    "    K = None\n",
    "    kclock = None#[s] see notation \n",
    "    \n",
    "    def __init__(self, r, ct, cord1=0., cord2=0.):\n",
    "        \"\"\"takes r to identify resource, unique, int\n",
    "        takes ct to specify category of this resource, str\n",
    "        takes coordinates, float, optional;\n",
    "            cord1/cord2 for x/y or lon/lat\n",
    "        \"\"\"\n",
    "        assert Resource.K is not None, 'set K first'\n",
    "        assert Resource.kclock is not None, 'set kclock first'\n",
    "        self.r = r\n",
    "        self.ct = ct                \n",
    "        self.cord1 = cord1            \n",
    "        self.cord2 = cord2\n",
    "        self._k = 0\n",
    "        self.view = None#simulation_init\n",
    "\n",
    "    def __repr__(self):\n",
    "        return (f'Resource(r={self.r}, ct={self.ct}, ' +\n",
    "                f'cord1={self.cord1}, cord2={self.cord2}, K={self.K}, _k={self._k}, kclock={self.kclock})')\n",
    "    \n",
    "    def __str__(self):\n",
    "        return (f'Resource(r={self.r}, ct={self.ct}, cord1={self.cord2}, cord2={self.cord1})')\n",
    "\n",
    "    def set_view(self, view):\n",
    "        \"\"\"Hands in data each resource operates on; Done by simulation_init\n",
    "        \"\"\"\n",
    "        self.view = view\n",
    "        \n",
    "    def jump(self, k):\n",
    "        \"\"\"Set the state to k; to be overwritten by subclasses\n",
    "        takes k the timepoint to set the state to, k >= 0 and k <= current k\n",
    "        \n",
    "        Called after each resource concluded the last step and gets\n",
    "        reset to the state at jump_to_k ktime. \n",
    "        Ctrl is the first to be rolled back.\n",
    "        \"\"\"\n",
    "        raise NotImplementedError(f'on {self}')\n",
    "    \n",
    "    def init(self):\n",
    "        \"\"\"Called before simulation starts stepping\n",
    "        \"\"\"\n",
    "        \n",
    "    def end(self,K):\n",
    "        \"\"\"Called once after simulation ended, eg to assert etc\n",
    "        \"\"\"\n",
    "    def get_k(self):\n",
    "        \"\"\"Returns local k\n",
    "        \"\"\"\n",
    "        return self._k  \n",
    "    \n",
    "    def set_k(self, k):\n",
    "        \"\"\"Returns local k\n",
    "        \"\"\"\n",
    "        self._k = k\n",
    "    \n",
    "    def step(self, k):\n",
    "        \"\"\"Perform state transition and run local time behavior.\n",
    "        \n",
    "        Progress time on this resource to run step of global counter k\n",
    "        which runs it to k+1 ktime moving it 1 kspan forward\n",
    "        function to be sub-class @extended and called right at start\n",
    "        \"\"\"\n",
    "        if k != self._k:\n",
    "            raise ValueError((f'out-of-step self._k={self._k} != '+\n",
    "                              f'k={k}, please re-initialize resource model mrss'))\n",
    "        else:\n",
    "            self._k += 1\n",
    "            \n",
    "class TimeSeries(Resource):\n",
    "    \"\"\"Predefined power specialized resource\n",
    "    \"\"\"\n",
    "    log_titles = (#number of logs read/written during simulation\n",
    "        'P_pros [W]',#0 := produced/consumed power\n",
    "        'E_pros [Ws]'#1 := produced/consumed energy\n",
    "    )\n",
    "    log_index_P = 0#logs index for power prosumed, else None\n",
    "    \n",
    "    def __init__(self, *args, **kwargs):\n",
    "        super(TimeSeries, self).__init__(*args, **kwargs)\n",
    "                           \n",
    "    def __repr__(self):#Optional\n",
    "        return (f'TimeSeries({super(TimeSeries, self).__repr__()}), ' +\n",
    "                f'log_index_P={self.log_index_P}, logs)')\n",
    "\n",
    "    def __str__(self):#Optional\n",
    "        return (f'TimeSeries({super(TimeSeries, self).__repr__()})')\n",
    "        \n",
    "    def jump(self, k):#Optional\n",
    "        \"\"\"see base class\"\"\"\n",
    "        local_k = self.get_k()\n",
    "        if k > local_k:\n",
    "            raise ValueError(f'k {k} greater than local k {local_k}')\n",
    "        if k < local_k:#rolling logs/variables back to k\n",
    "            self.view[1,k:] = 0\n",
    "            self.set_k(k)\n",
    "            \n",
    "    def step(self,k):\n",
    "        Resource.step(self, k)\n",
    "        E_prod = self.view[0,k] * Resource.kclock\n",
    "        self.view[1,k] = E_prod\n",
    "            \n",
    "\n",
    "class Control(Resource):\n",
    "    \"\"\"Implements microgrid control logic, blueprint\n",
    "    \"\"\"\n",
    "    log_titles = ('P_foo [W]',\n",
    "                 )\n",
    "    log_index_P = None#index in log_titles that logs power prosumed\n",
    "    \n",
    "    jump_to_k = None#set simulation time back to/including k.\n",
    "    #eg current k is 10 and back to 5 makes all rss finish 10 and jump to 5\n",
    "    #useful for eg back-tracking; can be called multiple times; call anywhere in step()\n",
    "    \n",
    "    def __init__(self, **kwargs):\n",
    "        super(Control, self).__init__(**kwargs)\n",
    "        \n",
    "    def __repr__(self):\n",
    "        return (f'Control({super(Control, self).__repr__()})')\n",
    "\n",
    "    def __str__(self):\n",
    "        return (f'Control({super(Control, self).__repr__()})')\n",
    "    \n",
    "    def jump(self, k):\n",
    "        \"\"\"see base class\n",
    "        \"\"\"\n",
    "        local_k = self.get_k()\n",
    "        if k > local_k:\n",
    "            raise ValueError(f'unable to roll to future, k {k} greater than local k {local_k}')\n",
    "        if k == 0:\n",
    "            self.view[:,k:] = 0#jump all logs\n",
    "        elif k < local_k:\n",
    "            self.view[:,k:] = 0\n",
    "        self.set_k(k)\n",
    "    \n",
    "    def init(self):\n",
    "        print(f'simulation about to start')\n",
    "        \n",
    "    def end(self, K):\n",
    "        pass\n",
    "        \n",
    "    def step(self, k):\n",
    "        Resource.step(self, k)\n",
    "        \"\"\"place logic here, make sure to have energy conservation in==out\n",
    "        \"\"\" \n",
    "        P_bal = 0#energy conservation\n",
    "        #... place logic here\n",
    "        assert P_bal == 0, 'power inflow != outflow'"
   ]
  },
  {
   "cell_type": "markdown",
   "metadata": {},
   "source": [
    "### Examples <a name=\"arg4Uezu\"></a>"
   ]
  },
  {
   "cell_type": "markdown",
   "metadata": {},
   "source": [
    " ### Scenario1: \n",
    "         The energy residual of one household is logged over one day.\n",
    "                +----------+\n",
    "                |   GRID   |\n",
    "                |    ^     |\n",
    "                |    |     |\n",
    "                |    v     |\n",
    "                |   LD     |\n",
    "                +----------+\n"
   ]
  },
  {
   "cell_type": "code",
   "execution_count": 13,
   "metadata": {},
   "outputs": [],
   "source": [
    "class Control(Resource):\n",
    "    \"\"\"Implements microgrid control logic, blueprint\n",
    "    \"\"\"\n",
    "    log_titles = ('E_residual [Ws]',\n",
    "                 )\n",
    "    log_index_P = None#index in log_titles that logs power prosumed \n",
    "    jump_to_k = None\n",
    "    \n",
    "    def __init__(self, **kwargs):\n",
    "        super(Control, self).__init__(**kwargs)\n",
    "        \n",
    "    def step(self, k):\n",
    "        Resource.step(self, k)\n",
    "        \"\"\"place logic here, make sure to have energy conservation in==out\n",
    "        \"\"\" \n",
    "        P_bal = 0#energy conservation\n",
    "        P_bal += get_power_grp('hh', j=0, ct_rs='ld')[k]\n",
    "        self.view[0,k] = P_bal*Resource.kclock\n",
    "        P_bal -= P_bal#have it logged, now subtract from balance\n",
    "        assert P_bal == 0, 'power inflow != outflow'"
   ]
  },
  {
   "cell_type": "code",
   "execution_count": 14,
   "metadata": {},
   "outputs": [
    {
     "name": "stdout",
     "output_type": "stream",
     "text": [
      "progress k 1439  1440/1440 100%  rem 0.00m\n",
      "CPU times: user 7.57 s, sys: 788 ms, total: 8.36 s\n",
      "Wall time: 7.9 s\n"
     ]
    }
   ],
   "source": [
    "%%time\n",
    "Resource.K = 1440# one day on 60 seconds resolution\n",
    "Resource.kclock = 60\n",
    "mrss = OrderedDict({\n",
    "    'ctrl': [Control(r=0,ct='ctrl',cord1=0,cord2=0), ],\n",
    "    'hh_ld': [TimeSeries(r=1,ct='ld'),],#load resource\n",
    "})\n",
    "magg = {\n",
    "    'hh': [[0,1],],\n",
    "}\n",
    "mdata, mmap = simulation_init()\n",
    "mdata['hh_ld'][0] = np.genfromtxt('time_series/lpg/000.csv', delimiter=\",\")[:1440]*-1\n",
    "simulation_run(up_to_k=Resource.K, clear_output_=True)"
   ]
  },
  {
   "cell_type": "code",
   "execution_count": 15,
   "metadata": {},
   "outputs": [
    {
     "data": {
      "image/png": "[encoded data removed]",
      "text/plain": [
       "<Figure size 1080x180 with 1 Axes>"
      ]
     },
     "metadata": {
      "needs_background": "light"
     },
     "output_type": "display_data"
    }
   ],
   "source": [
    "rs = get_rss('hh', j=0, ct_rs='ctrl')[0]\n",
    "plot_logs(rss=[rs], nums=[0], titles=[''])"
   ]
  },
  {
   "cell_type": "code",
   "execution_count": null,
   "metadata": {},
   "outputs": [],
   "source": []
  },
  {
   "cell_type": "markdown",
   "metadata": {},
   "source": [
    " ### Scenario2: \n",
    "         One household self-charges his battery to achieve maximum \n",
    "         self-consumption on its PV system. Wiring:\n",
    "               +--------------------+\n",
    "               |             GRID   |\n",
    "               |              |     |\n",
    "               |PV+-->INV+--->x<->ES|\n",
    "               |              v     |\n",
    "               |             LD     |\n",
    "               +--------------------+\n"
   ]
  },
  {
   "cell_type": "code",
   "execution_count": 16,
   "metadata": {},
   "outputs": [],
   "source": [
    "class Inverter(Resource):\n",
    "    \"\"\"Used to model inverter loss DC/AC conversion, true power;\n",
    "    Device not source nor sink, so in/outflow have the same sign.\n",
    "    Choose P_set sign arbitrayly but consistent, eg >0: DC/AC <0:AC/DC,\n",
    "    so to indicate flow direction alias >0:inverter <0:rectifier,\n",
    "    behaviour for +/- on P_set the same;     \n",
    "    \n",
    "    [1] doi 10.3390/en8064853 model and parameters\n",
    "    [2] https://www.researchgate.net/publication/319351878\n",
    "    \"\"\"\n",
    "    log_titles = (#number of logs read/written during simulation\n",
    "        'P_set [W]',#0 := power inflow, \n",
    "        'P_loss [W]'#1 := power loss reducing power outflow\n",
    "    )\n",
    "    log_index_P = 1#logs index for power prosumed, inverter is a 'consumer'\n",
    "    \n",
    "    def __init__(self, P_nom, CC, *args, **kwargs):\n",
    "        \"\"\"takes P_nom nominal power, float, + or -\"\"\"\n",
    "        super(Inverter, self).__init__(*args, **kwargs)\n",
    "        self.P_nom_abs = abs(P_nom)#soft/hard upper bound\n",
    "        self.CC_A = CC[0]\n",
    "        self.CC_B = CC[1]\n",
    "        self.CC_C = CC[2]\n",
    "        self.P_loss = None\n",
    "            \n",
    "    def __repr__(self):\n",
    "        return (f'Inverter({super(Inverter, self).__repr__()}), ' +\n",
    "                f'log_index_P={self.log_index_P}, logs)')\n",
    "\n",
    "    def __str__(self):\n",
    "        return (f'Inverter({super(Inverter, self).__repr__()})')\n",
    "    \n",
    "    def get_eff(self,k):\n",
    "        \"\"\"returns efficiency [0;1] for P_set; \n",
    "        do set P_set at k ktime before calling\n",
    "        \"\"\"\n",
    "        P_set = self.view[0,k]\n",
    "        if P_set == 0:\n",
    "            return 1e-3\n",
    "        else:\n",
    "            return (abs(P_set) + self.P_loss) / abs(P_set)\n",
    "        \n",
    "    def rollback(self, k):\n",
    "        \"\"\"see base class\"\"\"\n",
    "        local_k = self.get_k()\n",
    "        if k > local_k:\n",
    "            raise ValueError(f'unable to roll to future, k {k} greater than local k {local_k}')\n",
    "        if k < local_k:#rolling logs/variables back to k\n",
    "            self.view[:,k:] = 0\n",
    "            self.set_k(k)\n",
    "            \n",
    "    @staticmethod\n",
    "    def _lookup_eff(P_out):\n",
    "        \"\"\"returns eff for given abs(P_out) inverter outflow\n",
    "        lookup tables are precalculated for given inverter\n",
    "        CC_i in simulation are all the same, so one lookup suff.\n",
    "        side-effect: read from lookup_P_out and lookup_eff\n",
    "        \"\"\"\n",
    "        idx = (np.abs(lookup_P_out - P_out)).argmin()#nearest\n",
    "        eff = lookup_eff[idx]\n",
    "        if eff == 0:\n",
    "            eff = 1e-3#cvent div0, even on low P_out since lookup nearest\n",
    "        return eff\n",
    "    \n",
    "    def _get_eff(self, P_set):\n",
    "        \"\"\"calculate eff, corresponds to the backwards lookup\"\"\"\n",
    "        eff = self.CC_A * P_set / (self.CC_B - P_set) + self.CC_C * P_set\n",
    "        return eff\n",
    "\n",
    "    def set_P_by_out(self,k, P_out):\n",
    "        \"\"\"Set inflow for given outflow\n",
    "        eff from external lookup table (for now)\n",
    "        returns self\n",
    "        \"\"\"\n",
    "        P_out_abs = abs(P_out)\n",
    "        eff = Inverter._lookup_eff(P_out_abs)\n",
    "        self.P_loss = (1/eff - 1) * P_out_abs *-1#loss convention\n",
    "        P_set = self.P_loss*-1*math.copysign(1,P_out) + P_out\n",
    "        if abs(P_set) > self.P_nom_abs and False:#and TRUE to not allow P_nom exceed\n",
    "            raise ValueError(f'Inverter P_set={P_set} exceeds P_nom_abs={self.P_nom_abs}')\n",
    "        self.view[0,k] = P_set\n",
    "        self.view[1,k] = self.P_loss\n",
    "        return self\n",
    "        \n",
    "    def set_P(self,k, P_set):\n",
    "        \"\"\"Sets the power inflow\n",
    "        returns self\n",
    "        \"\"\"\n",
    "        if abs(P_set) > self.P_nom_abs and False:#s.a.\n",
    "            raise ValueError(f'Inverter P_set={P_set} exceeds P_nom_abs={self.P_nom_abs}')\n",
    "        if P_set == 0:\n",
    "            eff = 1\n",
    "        else:\n",
    "            eff = self._get_eff(abs(P_set))\n",
    "        self.P_loss = (1 - eff) * abs(P_set) *-1#loss convention\n",
    "        self.view[0,k] = P_set\n",
    "        self.view[1,k] = self.P_loss\n",
    "        return self\n",
    "            \n",
    "    def step(self,k):\n",
    "        Resource.step(self, k)\n",
    "        #loss precalculated when set"
   ]
  },
  {
   "cell_type": "code",
   "execution_count": 17,
   "metadata": {},
   "outputs": [],
   "source": [
    "class BatteryRPL(Resource):\n",
    "    \"\"\"Prosumage specialized resource with three states charge/discharge/idle    \n",
    "    \n",
    "    BatteryRPL rewrites the loss of BatteryR from constant to a percentage of \n",
    "    the current soc. This models the effect of increased loss on high socs\n",
    "    \n",
    "    Furthermore it adds idle losses to charge,discharge powers equal or\n",
    "    below pivot_P_idle. This models the effect of idle loss when 'about' idle.\n",
    "    \n",
    "    Since the model/parameters are highly depended on the batt/circuit/env,\n",
    "    abstraction prevents misconfig, yet models relevant effects for scheduling.\n",
    "\n",
    "    Maximum charge/discharge power = function(soc)\n",
    "    Idle loss = percent * current_soc\n",
    "    Efficiency = constant\n",
    "\n",
    "    [0] http://science.sciencemag.org/content/334/6058/928\n",
    "    [1] http://dx.doi.org/10.1016/j.jpowsour.2012.10.060\n",
    "    [2] https://doi.org/10.1016/j.electacta.2017.10.153\n",
    "    [3] https://www.researchgate.net/publication/319351878\n",
    "    [4] https://doi.org/10.1007/s11465-018-0516-8\n",
    "    \"\"\"\n",
    "    log_titles = ('P_ext [W]',#1 := P_ext produced/consumed power\n",
    "                  'E_ext [Ws]',#2 := E_ext produced/consumed energy\n",
    "                  'E_loss [Ws]',#3 := E_loss energy loss, be it charge/discharge/idle\n",
    "                  'E_soc [Ws]',#4 := E_soc total energy stored at k ktime\n",
    "                 )\n",
    "    log_index_P = 0#index in log_titles that logs power prosumed\n",
    "    \n",
    "    def __init__(self, E_soc, E_soc_max, P_ch_const, P_dch_const, pct_dch_idle,  eff_rt, pivot_soc_dch=0, *args, **kwargs):\n",
    "        \"\"\"constructor for initial state\n",
    "        takes E_soc and E_soc_max for initial and maximum state of charge, <=0\n",
    "        takes P_ch_const and P_dch_const for desired charge/discharge\n",
    "            these are eventually undercut but not exceeded\n",
    "        takes pct_dch_idle percent of current soc before the step to assign to loss\n",
    "        takes eff_rt round-trip efficiency to simulate loss, [0;1]\n",
    "        \"\"\"\n",
    "        assert E_soc <= 0 and E_soc >= E_soc_max, 'bad args'\n",
    "        assert P_ch_const <= 0 and P_dch_const >= 0, 'bad args'\n",
    "        assert eff_rt <= 1 and eff_rt >= 0, 'bad args'\n",
    "        \n",
    "        super(BatteryRPL, self).__init__(*args, **kwargs)\n",
    "        self.E_soc = float(E_soc)\n",
    "        self.E_soc_max = float(E_soc_max) \n",
    "        self.P_ext = None\n",
    "        self.E_ext = None\n",
    "        self.E_loss = None\n",
    "        self.P_ch_const = float(P_ch_const)\n",
    "        self.P_dch_const = float(P_dch_const)        \n",
    "        self.P_set = 0#fix, use set_P\n",
    "\n",
    "        \"\"\"Charge and discharge power are limited for operational safety\n",
    "        Charge power is constant, but linearly decreases if pivot_soc_ch exceeded.\n",
    "        Discharge power is constant, but instant 0 if pivot_soc_dch undercut.\n",
    "        \n",
    "        power ch   |---linear increase--|---------const--------|\n",
    "        soc        soc_max              pivot_soc_ch*          0\n",
    "        power dch  |------------const----------|-------0-------|\n",
    "        soc        soc_max                     pivot_soc_dch*  0\n",
    "        \"\"\"\n",
    "        self.pivot_soc_ch = 0.9#[0;1]\n",
    "        self.pivot_soc_dch = pivot_soc_dch#[0;1]\n",
    "        self.pivot_P_ch = 1/3#[0;1] of P_ch_const to charge at soc_max\n",
    "        self.P_ch_max = np.zeros( (1,2) )#P_dch_max for [eff_pivot, eff_rt]\n",
    "        self.P_dch_max = np.zeros( (1,2) )\n",
    "\n",
    "        \"\"\"Idle losses are a fraction of the current soc, positive float\"\"\"\n",
    "        self.pct_dch_idle = abs(float(pct_dch_idle))\n",
    "        \n",
    "        \"\"\"charge and discharge efficiency instant-drops on low power rate\n",
    "        Charge/discharge are subject to loss of eff_pivot or sqrt(eff_rt)\n",
    "        \n",
    "        eff      |---------sqrt(eff_rt)--------|-----+idle-----|\n",
    "        power    P_ch/dch_const                pivot_P_idle    0\n",
    "        \"\"\"\n",
    "        self.pivot_P_idle = abs(10.)#inspired by [3]\n",
    "        self.eff_rt = float(eff_rt)\n",
    "        \n",
    "        self.update_max_ch_dch_power()\n",
    "       \n",
    "    def __repr__(self):#verbose\n",
    "        return (f'BatteryRPL({super(BatteryRPL, self).__repr__()}, ' +\n",
    "                f'E_soc={self.E_soc}, E_soc_max={self.E_soc_max}, '+\n",
    "                f'E_ext={self.E_ext}, E_loss={self.E_loss}, '+\n",
    "                f'P_ch_const={self.P_ch_const}, P_dch_const={self.P_dch_const}, '+\n",
    "                f'P_set={self.P_set}, pivot_soc_ch={self.pivot_soc_ch}, '+\n",
    "                f'pivot_soc_dch={self.pivot_soc_dch}, pivot_P_ch={self.pivot_P_ch}, '+\n",
    "                f'P_ch_max={self.P_ch_max}, P_dch_max={self.P_dch_max}, '+\n",
    "                f'pct_dch_idle={self.pct_dch_idle}, pivot_P_idle={self.pivot_P_idle}, '+\n",
    "                f'eff={self.eff_rt}, log_index_P={self.log_index_P}, logs)')\n",
    "    \n",
    "    def __str__(self):\n",
    "        return f'BatteryRPL({super(BatteryRPL, self).__repr__()})'\n",
    "        \n",
    "    def rollback(self, k):\n",
    "        \"\"\"see base class\"\"\"\n",
    "        local_k = self.get_k()\n",
    "        if k > local_k:\n",
    "            raise ValueError(f'unable to roll to future, k {k} greater than local k {local_k}')\n",
    "        if k == 0:\n",
    "            self.P_set = 0\n",
    "            self.P_ext = None\n",
    "            self.E_ext = None\n",
    "            self.E_loss = None\n",
    "            self.E_soc = self.view[3,0]#from start\n",
    "        elif k < local_k:#rolling logs/variables back to k\n",
    "            self.P_set = self.view[0,k-1]#same as P_ext\n",
    "            self.P_ext = self.view[0,k-1]\n",
    "            self.E_ext = self.view[1,k-1]\n",
    "            self.E_loss = self.view[2,k-1]\n",
    "            self.E_soc = self.view[3,k]#from k\n",
    "        self.view[:,k:] = 0\n",
    "        self.set_k(k)\n",
    "        self.update_max_ch_dch_power()\n",
    "\n",
    "    def set_P(self, k, P_set):\n",
    "        \"\"\"charge/discharge/idle power -/+/0 respectively, int/float\n",
    "        \n",
    "                |---P_ch----|---P_dch---|\n",
    "                P_ch_max   -0+          P_dch_max\n",
    "        \"\"\"\n",
    "        P_set = float(P_set)\n",
    "        self.view[0, k] = P_set#expose right after set but before step for get_power(_grp)\n",
    "        if P_set >= self.P_ch_max and P_set <= self.P_dch_max:\n",
    "            self.P_set = P_set\n",
    "        else:\n",
    "            raise ValueError((f'limits exceeded ' +\n",
    "                f'ch<=have<=dch {self.P_ch_max}<={P_set}<={self.P_dch_max}'))\n",
    "\n",
    "    def update_max_ch_dch_power(self):\n",
    "        #charge limits pysical\n",
    "        if self.E_soc == self.E_soc_max:#full limit\n",
    "            self.P_ch_max = 0\n",
    "        elif self.E_soc <= self.pivot_soc_ch * self.E_soc_max:#pivot reached\n",
    "            \"\"\"linear function interpolating charging power between two points\n",
    "            (E_soc_max,pivot_P_ch*P_ch_const) (pivot_soc_ch*E_soc_max,P_ch_const)\n",
    "            \"\"\"\n",
    "            m = ((self.P_ch_const - self.pivot_P_ch * self.P_ch_const) / \n",
    "                 (self.pivot_soc_ch * self.E_soc_max - self.E_soc_max))\n",
    "            t = (self.P_ch_const - m * self.pivot_soc_ch * self.E_soc_max)\n",
    "            self.P_ch_max = m * self.E_soc + t\n",
    "        else:\n",
    "            self.P_ch_max = self.P_ch_const\n",
    "            \n",
    "        #charge limits discretization\n",
    "        P_ch_max_suff = (self.E_soc_max - self.E_soc) / math.sqrt(self.eff_rt) / Resource.kclock\n",
    "        \n",
    "        #charge limits, necessary and sufficient\n",
    "        self.P_ch_max = max(self.P_ch_max, P_ch_max_suff)*(1-1e-9)#prevent flip soc>0 \n",
    "        \n",
    "        #discharge limits pysical\n",
    "        if self.E_soc >= self.pivot_soc_dch * self.E_soc_max:#pivot reached\n",
    "            self.P_dch_max = 0\n",
    "        else:#necessary\n",
    "            self.P_dch_max = self.P_dch_const\n",
    "            \n",
    "        #discharge limits discretization, sufficient\n",
    "        P_dch_max_suff = -1 * self.E_soc * math.sqrt(self.eff_rt) / Resource.kclock\n",
    "        \n",
    "        #discharge limits, necessary and sufficient\n",
    "        self.P_dch_max = min(self.P_dch_max, P_dch_max_suff)*(1-1e-9) \n",
    "        if self.P_dch_max < 25:\n",
    "            self.P_dch_max = 0\n",
    "            \n",
    "    def step(self,k):\n",
    "        Resource.step(self, k)\n",
    "        E_ext = self.P_set * Resource.kclock#externally prosumed\n",
    "                            \n",
    "        self.view[3,k] = self.E_soc#at k ktime\n",
    "        eff = math.sqrt(self.eff_rt)\n",
    "        \n",
    "        if self.P_set > 0:#discharge\n",
    "            self.P_ext = self.P_set\n",
    "            self.E_ext = E_ext \n",
    "            self.E_loss = (E_ext / eff - E_ext) * -1#loss sign convention\n",
    "            self.E_soc += E_ext / eff\n",
    "        elif self.P_set < 0:#charge\n",
    "            self.P_ext = self.P_set\n",
    "            self.E_ext = E_ext\n",
    "            self.E_loss = E_ext * (1 - eff)\n",
    "            self.E_soc += E_ext * eff                \n",
    "        elif self.P_set == 0:#idle\n",
    "            self.P_ext = 0\n",
    "            self.E_ext = 0\n",
    "            self.E_loss = self.pct_dch_idle * self.E_soc\n",
    "            self.E_soc += self.pct_dch_idle * self.E_soc * -1\n",
    "        \n",
    "        if self.P_set != 0 and abs(self.P_set) <= self.pivot_P_idle:#add idle loss on low ch/dch P\n",
    "            self.E_loss += self.pct_dch_idle * self.E_soc\n",
    "            self.E_soc += self.pct_dch_idle * self.E_soc * -1\n",
    "        \n",
    "        assert self.E_soc <= 0, 'soc flipped'#probably prec. err\n",
    "        assert abs(self.E_soc - (self.view[3,k] + self.E_ext + self.E_loss*-1))<1e-6#energy conservation\n",
    "        \n",
    "        if self.E_soc > -1e-9:#classify as loss\n",
    "            self.E_loss += self.E_soc\n",
    "            self.E_soc = 0\n",
    "            \n",
    "        #log to data store, at k kspan\n",
    "        self.view[0,k] = self.P_ext\n",
    "        self.view[1,k] = self.E_ext\n",
    "        self.view[2,k] = self.E_loss \n",
    "        \n",
    "        #transition done, forward simulation time on device                               \n",
    "        self.update_max_ch_dch_power()"
   ]
  },
  {
   "cell_type": "code",
   "execution_count": 18,
   "metadata": {},
   "outputs": [],
   "source": [
    "# curve-fit inverter\n",
    "from scipy.optimize import curve_fit\n",
    "def func(x, a, b, c):\n",
    "    return a*x / (b-x) + c*x\n",
    "xdata = np.array([0, 10, 100, 1000, 2000, 5000, 1e4])\n",
    "ydata = np.array([0, 0.1, 0.45, 0.97, 0.94, 0.92, 0.8])\n",
    "popt, pcov = curve_fit(func, xdata, ydata) #inverter coeff ABC"
   ]
  },
  {
   "cell_type": "code",
   "execution_count": 19,
   "metadata": {},
   "outputs": [
    {
     "name": "stdout",
     "output_type": "stream",
     "text": [
      "start -10kWh, end month -9.5kWh, 0.05%, pct_dch_idle 0.000119%/min\n"
     ]
    }
   ],
   "source": [
    "# idle for battery\n",
    "pct_dch_idle = 1-(95/100)**(1/(30*24*60))# 5% idle loss over the month to 1min kclock\n",
    "soc = -10\n",
    "for k in range(30*24*60):#verify\n",
    "    soc = soc * (1 - pct_dch_idle)\n",
    "print(f'start {-10}kWh, end month {soc:.3}kWh, {1-soc/-10:.2}%, pct_dch_idle {pct_dch_idle*1e2:.3}%/min')"
   ]
  },
  {
   "cell_type": "code",
   "execution_count": 20,
   "metadata": {},
   "outputs": [],
   "source": [
    "class Control(Resource):\n",
    "    \"\"\"Implements microgrid control logic, blueprint\n",
    "    \"\"\"\n",
    "    log_titles = ('P_j_inv_out [W]',\n",
    "                  'P_j_res [W]',\n",
    "                 )\n",
    "    log_index_P = None#index in log_titles that logs power prosumed \n",
    "    jump_to_k = None\n",
    "    \n",
    "    def __init__(self, **kwargs):\n",
    "        super(Control, self).__init__(**kwargs)\n",
    "        \n",
    "    def step(self, k):\n",
    "        Resource.step(self, k)\n",
    "        \"\"\"place logic here, make sure to have energy conservation in==out\n",
    "        \"\"\" \n",
    "        P_bal = 0#energy conservation\n",
    "\n",
    "        P_j_pv = get_power_grp('hh', j=0, ct_rs='pv')[k]\n",
    "        P_j_ld = get_power_grp('hh', j=0, ct_rs='ld')[k]\n",
    "        rs_inv = get_rss('hh', j=0, ct_rs='inv')[0]#unpack the only inv\n",
    "        rs_es = get_rss('hh', j=0, ct_rs='es')[0]#unpack the only es\n",
    "        \n",
    "        P_j_pv_inv = rs_inv.set_P(k, P_j_pv).get_eff(k) * P_j_pv#reduced by inv. loss\n",
    "        P_j_res = P_j_pv_inv + P_j_ld\n",
    "        \n",
    "        if P_j_res > 0:#oversupply\n",
    "            if P_j_res > rs_es.P_ch_max*-1:#if unable to consume oversupply\n",
    "                rs_es.set_P(k, rs_es.P_ch_max)\n",
    "                self.view[1,k] = P_j_res + rs_es.P_ch_max#left overs flow to extern\n",
    "            else:\n",
    "                rs_es.set_P(k, P_j_res*-1)#residual zeroed\n",
    "        else:#undersupply\n",
    "            if P_j_res*-1 > rs_es.P_dch_max:\n",
    "                rs_es.set_P(k, rs_es.P_dch_max)\n",
    "                self.view[1,k] = P_j_res + rs_es.P_dch_max#inflow from extern\n",
    "            else:\n",
    "                rs_es.set_P(k, P_j_res*-1)#residual zeroed\n",
    "                \n",
    "        self.view[0,k] = P_j_pv_inv#log inverter output\n",
    "        assert P_bal == 0, 'power inflow != outflow'"
   ]
  },
  {
   "cell_type": "code",
   "execution_count": 21,
   "metadata": {},
   "outputs": [
    {
     "name": "stdout",
     "output_type": "stream",
     "text": [
      "progress k 1439  1440/1440 100%  rem 0.00m\n",
      "CPU times: user 9.24 s, sys: 1.01 s, total: 10.2 s\n",
      "Wall time: 10 s\n"
     ]
    }
   ],
   "source": [
    "%%time\n",
    "Resource.K = 1440# one day on 60 seconds resolution\n",
    "Resource.kclock = 60\n",
    "mrss = OrderedDict({\n",
    "    'ctrl': [Control(r=0,ct='ctrl',cord1=0,cord2=0), ],\n",
    "    'hh_ld': [TimeSeries(r=1,ct='ld'),],#load resource\n",
    "    'hh_pv': [TimeSeries(r=2,ct='pv')],\n",
    "    'hh_inv': [Inverter(r=3,ct='inv',P_nom=3500, CC=popt)],\n",
    "    'hh_es': [BatteryRPL(r=4,ct='es',E_soc=-to_Ws(1),\\\n",
    "              E_soc_max=-to_Ws(5), P_ch_const=-4500,P_dch_const=5000,\\\n",
    "              pct_dch_idle=pct_dch_idle, eff_rt=0.9), ],\n",
    "})\n",
    "magg = {\n",
    "    'hh': [[0,1,2,3,4],],\n",
    "}\n",
    "mdata, mmap = simulation_init()\n",
    "mdata['hh_ld'][0] = np.genfromtxt('time_series/lpg/000.csv', delimiter=\",\")[:1440]*-1 #!negative\n",
    "mdata['hh_pv'][0] = np.genfromtxt('time_series/crest/pv_1qm_clearness_index_varies.csv', delimiter=\",\").transpose()[0,:1440]*10#10qm\n",
    "simulation_run(up_to_k=Resource.K, clear_output_=True)"
   ]
  },
  {
   "cell_type": "code",
   "execution_count": 22,
   "metadata": {},
   "outputs": [
    {
     "data": {
      "image/png": "[encoded data removed]",
      "text/plain": [
       "<Figure size 1080x540 with 3 Axes>"
      ]
     },
     "metadata": {
      "needs_background": "light"
     },
     "output_type": "display_data"
    }
   ],
   "source": [
    "\n",
    "ctrl = get_rss('hh', j=0, ct_rs='ctrl')[0]\n",
    "es = get_rss('hh', j=0, ct_rs='es')[0]\n",
    "plot_logs(rss=[ctrl,ctrl,es], nums=[0,1,3], titles=['','', ''])"
   ]
  },
  {
   "cell_type": "code",
   "execution_count": null,
   "metadata": {},
   "outputs": [],
   "source": []
  },
  {
   "cell_type": "markdown",
   "metadata": {},
   "source": [
    " ### Scenario3: \n",
    "    Two households balance their load on one shared battery. They try to balance out supply and demand for maximum SSR and SCR\n",
    "        +-----------------------------------------+\n",
    "        |                                         |\n",
    "        |                 +----------------+GRID  |\n",
    "        |                 |                |      |\n",
    "        | PV+-->INV+----+-+  PV+-->INV+--->x<->ES |\n",
    "        |               v                  v      |\n",
    "        |              LD                 LD      |\n",
    "        +-----------------------------------------+"
   ]
  },
  {
   "cell_type": "code",
   "execution_count": 23,
   "metadata": {},
   "outputs": [],
   "source": [
    "class Control(Resource):\n",
    "    \"\"\"Implements microgrid control logic, blueprint\n",
    "    \"\"\"\n",
    "    log_titles = ('P_J_inv_out [W]',\n",
    "                  'P_J_res [W]',\n",
    "                 )\n",
    "    log_index_P = None#index in log_titles that logs power prosumed \n",
    "    jump_to_k = None\n",
    "    \n",
    "    def __init__(self, **kwargs):\n",
    "        super(Control, self).__init__(**kwargs)\n",
    "        \n",
    "    def step(self, k):\n",
    "        Resource.step(self, k)\n",
    "        \"\"\"place logic here, make sure to have energy conservation in==out\n",
    "        \"\"\" \n",
    "        P_bal = 0#energy conservation\n",
    "\n",
    "        P_j0_pv = get_power_grp('hh', j=0, ct_rs='pv')[k]\n",
    "        P_j1_pv = get_power_grp('hh', j=1, ct_rs='pv')[k]\n",
    "        P_J_ld = get_power_grp('hh', j=None, ct_rs='ld')[k]\n",
    "        rs_j0_inv = get_rss('hh', j=0, ct_rs='inv')[0]\n",
    "        rs_j1_inv = get_rss('hh', j=1, ct_rs='inv')[0]\n",
    "        rs_es = get_rss('hh', j=1, ct_rs='es')[0]\n",
    "        \n",
    "        P_j0_pv_inv = rs_j0_inv.set_P(k, P_j0_pv).get_eff(k) * P_j0_pv\n",
    "        P_j1_pv_inv = rs_j1_inv.set_P(k, P_j1_pv).get_eff(k) * P_j1_pv\n",
    "        P_J_res = P_j0_pv_inv + P_j1_pv_inv + P_J_ld\n",
    "        \n",
    "        if P_J_res > 0:#oversupply\n",
    "            if P_J_res > rs_es.P_ch_max*-1:#if unable to consume oversupply\n",
    "                rs_es.set_P(k, rs_es.P_ch_max)\n",
    "                self.view[1,k] = P_J_res + rs_es.P_ch_max#left overs flow to extern\n",
    "            else:\n",
    "                rs_es.set_P(k, P_J_res*-1)#residual zeroed\n",
    "        else:#undersupply\n",
    "            if P_J_res*-1 > rs_es.P_dch_max:\n",
    "                rs_es.set_P(k, rs_es.P_dch_max)\n",
    "                self.view[1,k] = P_J_res + rs_es.P_dch_max#inflow from extern\n",
    "            else:\n",
    "                rs_es.set_P(k, P_J_res*-1)#residual zeroed\n",
    "                \n",
    "        self.view[0,k] = P_j0_pv_inv + P_j1_pv_inv#log total inverter output\n",
    "        assert P_bal == 0, 'power inflow != outflow'"
   ]
  },
  {
   "cell_type": "code",
   "execution_count": 24,
   "metadata": {},
   "outputs": [
    {
     "name": "stdout",
     "output_type": "stream",
     "text": [
      "progress k 1439  1440/1440 100%  rem 0.00m\n",
      "CPU times: user 13 s, sys: 956 ms, total: 13.9 s\n",
      "Wall time: 13.8 s\n"
     ]
    }
   ],
   "source": [
    "%%time\n",
    "Resource.K = 1440# one day on 60 seconds resolution\n",
    "Resource.kclock = 60\n",
    "mrss = OrderedDict({\n",
    "    'ctrl': [Control(r=0,ct='ctrl',cord1=0,cord2=0), ],\n",
    "    'hh_ld': [TimeSeries(r=1,ct='ld'),TimeSeries(r=5,ct='ld')],#load resource\n",
    "    'hh_pv': [TimeSeries(r=2,ct='pv'),TimeSeries(r=6,ct='pv')],\n",
    "    'hh_inv': [Inverter(r=3,ct='inv',P_nom=3500, CC=popt), Inverter(r=7,ct='inv',P_nom=3500, CC=popt)],\n",
    "    'hh_es': [BatteryRPL(r=4,ct='es',E_soc=-to_Ws(0),\\\n",
    "              E_soc_max=-to_Ws(5), P_ch_const=-4500,P_dch_const=5000,\\\n",
    "              pct_dch_idle=pct_dch_idle, eff_rt=0.9), ],\n",
    "})\n",
    "magg = {\n",
    "    'hh': [[5,6,7], [0,1,2,3,4]],\n",
    "}\n",
    "mdata, mmap = simulation_init()\n",
    "mdata['hh_ld'][0] = np.genfromtxt('time_series/lpg/000.csv', delimiter=\",\")[:1440]*-1\n",
    "mdata['hh_ld'][1] = np.genfromtxt('time_series/lpg/001.csv', delimiter=\",\")[:1440]*-1\n",
    "mdata['hh_pv'][0] = np.genfromtxt('time_series/crest/pv_1qm_clearness_index_varies.csv', delimiter=\",\").transpose()[0,:1440]*10#10qm\n",
    "mdata['hh_pv'][1] = np.genfromtxt('time_series/crest/pv_1qm_clearness_index_varies.csv', delimiter=\",\").transpose()[0,:1440]*20#15qm\n",
    "simulation_run(up_to_k=Resource.K, clear_output_=True)"
   ]
  },
  {
   "cell_type": "code",
   "execution_count": 25,
   "metadata": {},
   "outputs": [
    {
     "data": {
      "image/png": "[encoded data removed]",
      "text/plain": [
       "<Figure size 1080x540 with 3 Axes>"
      ]
     },
     "metadata": {
      "needs_background": "light"
     },
     "output_type": "display_data"
    }
   ],
   "source": [
    "\n",
    "ctrl = get_rss('hh', j=1, ct_rs='ctrl')[0]\n",
    "es = get_rss('hh', j=1, ct_rs='es')[0]\n",
    "plot_logs(rss=[ctrl,ctrl,es], nums=[0,1,3], titles=['','', ''], use_area=True)"
   ]
  },
  {
   "cell_type": "code",
   "execution_count": 26,
   "metadata": {
    "scrolled": false
   },
   "outputs": [
    {
     "data": {
      "image/png": "[encoded data removed]",
      "text/plain": [
       "<Figure size 1080x180 with 1 Axes>"
      ]
     },
     "metadata": {
      "needs_background": "light"
     },
     "output_type": "display_data"
    }
   ],
   "source": [
    "plot_bar([get_power_grp('hh', ct_rs='ld')[700:1000]], ['total load [W] k700:k1000'])"
   ]
  },
  {
   "cell_type": "markdown",
   "metadata": {},
   "source": [
    "#### Powerful queries allow verifying the community SSR right away:"
   ]
  },
  {
   "cell_type": "code",
   "execution_count": 27,
   "metadata": {},
   "outputs": [
    {
     "data": {
      "text/plain": [
       "'The SSR of the community is 0.5104408306646335 of total consumed -46.075771kWh incl. loss'"
      ]
     },
     "execution_count": 27,
     "metadata": {},
     "output_type": "execute_result"
    }
   ],
   "source": [
    "f\"The SSR of the community is {get_param(param='SSR', ct_grp='hh')} of total consumed {to_kWh(get_power_grp('hh', ct_flow='cons')*Resource.kclock).sum():.6f}kWh incl. loss\""
   ]
  },
  {
   "cell_type": "code",
   "execution_count": 28,
   "metadata": {},
   "outputs": [
    {
     "data": {
      "text/plain": [
       "0.5104408306646335"
      ]
     },
     "execution_count": 28,
     "metadata": {},
     "output_type": "execute_result"
    }
   ],
   "source": [
    "res = get_power_grp('hh')\n",
    "E_J_res = to_kWh(res[res<0].sum() * Resource.kclock)\n",
    "E_J_cons = to_kWh((get_power_grp('hh', ct_flow='cons').sum()) * Resource.kclock)\n",
    "1-E_J_res/E_J_cons#same as above, fin"
   ]
  },
  {
   "cell_type": "code",
   "execution_count": 29,
   "metadata": {},
   "outputs": [
    {
     "data": {
      "text/plain": [
       "(23.518954766188845, 19.949739499999996, 3.5692152661888437)"
      ]
     },
     "execution_count": 29,
     "metadata": {},
     "output_type": "execute_result"
    }
   ],
   "source": [
    "to_kWh((get_power_grp('hh', ct_flow='prod').sum()) * Resource.kclock),\\\n",
    "to_kWh((get_power_grp('hh', ct_rs='pv').sum()) * Resource.kclock),\\\n",
    "to_kWh((get_power_grp('hh', ct_rs='es', ct_flow='prod').sum()) * Resource.kclock)#prod = pv + es_dch"
   ]
  },
  {
   "cell_type": "code",
   "execution_count": null,
   "metadata": {},
   "outputs": [],
   "source": []
  },
  {
   "cell_type": "markdown",
   "metadata": {},
   "source": [
    "### Appendix <a name=\"aeZae4ai\"></a>"
   ]
  },
  {
   "cell_type": "markdown",
   "metadata": {},
   "source": [
    "#### Glossary <a name=\"aec2ieTe\"></a>\n",
    "    abbreviations\n",
    "        pv\t\tphotovoltaic system\n",
    "        es\t\tenergy storage system\n",
    "        soc\t\tstate of energy charge\n",
    "        inv     inverter\n",
    "        hh\t\thousehold\n",
    "        dof     degree of freedom\n",
    "        jpn     jupyter notebook\n",
    "        xfmr    transformer\n",
    "\n",
    "        E_\t\tenergy [Ws], ∈ |R float\n",
    "        P_ \t\tpower [W], ∈ |R float\n",
    "        C_\t\tcost, <0 negative cost is revenue, >0 is cost\n",
    "                    ∈ |R float denoted in [curr]\n",
    "        c_\t\tcost per unit, \n",
    "                    ∈ |R+ float, denoted in [curr/Ws]\n",
    "    sub-idices  \n",
    "        res\t\tresidual \n",
    "        prod    produced\n",
    "        cons    consumed\n",
    "        r       resource index\n",
    "        r=foo   selector, only resources of type foo\n",
    "        R      number of resources\n",
    "        const\tconstant\n",
    "        bal     balance\n",
    "        ctrl    control  \n",
    "        ch      charge\n",
    "        dch     discharge\n",
    "        J\t\tcollection size of ct_grp in aggregator model\n",
    "        j\t\tcollection/peer index, ∈ [0;J-1]\n",
    "        <type>\tspecifier eg load|pv|es|res|... \n",
    "\n",
    "    time scale\n",
    "        k       simulation time counter, ∈ [0;K-1]\n",
    "                increments each step to advance time\n",
    "        K\t\tnumber of simulation steps\n",
    "\n",
    "        kclock  step time, maps simulation time to clock-time, ∈ |R or |N, [s]\n",
    "                describes time passed each step,\n",
    "                modifying the value is ok and changes granularity of the data\n",
    "\n",
    "                modifying its unit  requires resource adjustments\n",
    "                imported resource models with different step value/unit must\n",
    "                    be adjusted, eg 2[ms] model must step 500* per k if kclock 1[s]\n",
    "                common units are [s|m|h|d]\n",
    "        units are ktime, kspan, ctime, cspan for concrete k\n",
    "                at k ktime is a timepoint\n",
    "                at k kspan is one timespan and starts at k ktime\n",
    "                for k kspan is a timespan of length k with unspecified start\n",
    "\n",
    "        kr      used to specify relative timespans, see examples\n",
    "        ekE     divides k axis into epochs of length E ∈ |N\n",
    "                e = int(k/E) converts k to epoch e\n",
    "                k = e*E      converts epoch e to k\n",
    "\n",
    "    sign convention\n",
    "        <0 := outflow alias consume or export\n",
    "        >0 := inflow alias produce or import\n",
    "        from system point of view consumer counting arrow system\n",
    "        from resource pov called producer counting arrow system\n",
    "        the system is a virtual construct only for energy conservation\n",
    "        the pysical grid would be a loss afflicted resource itself\n",
    "        loss is always negative, since it reduces the system's energy amount \n",
    "        +------------------+\n",
    "        | +--------+       |\n",
    "        | |resource|<-cons |<-imp\n",
    "        | +--------+->prod |->exp,\n",
    "        |  system          |\n",
    "        +------------------+\n",
    "\n",
    "    examples\n",
    "        P_k_res         of any k\n",
    "        P_K_res, P_res  for all k summarized\n",
    "        P_j_res         of any j\n",
    "        P_J_res         for all j summarized, since there are multiple J's it remains;\n",
    "        k2              simulation time after two steps 0-1-now\n",
    "                        in text called 2 ktime or 4 ctime with kclock=2\n",
    "        K * kclock      total simulated time in ctime\n",
    "        P_k10,j0,load   power load of peer 0 at ktime 10\n",
    "        P_j0,k1,pv      photovoltaic power of peer 0 at 1 ktime\n",
    "        P_j,k1,pv       photovoltaic power of unspecified peer at 1 ktime\n",
    "        P_j0:9,res      total residual power of peers [0;8]\n",
    "        P_J,res         total residual power of all peers\n",
    "                        time irrelevant/omitted or specified elsewhere\n",
    "        P_J,pv          total photovoltaic power of all peers\n",
    "        E_K,res         total residual energy over simulated time K kspan\n",
    "        P_r0,k1         power of resource with index 0 at 1 ktime\n",
    "        P_R             total power of all devices\n",
    "                        if peers hold all resources, == P_J,res\n",
    "        E_k10:20        energy sum over 10 kspan from k [10;19]\n",
    "        E_kr0:10        energy sum over 10 kspan; 'when' unkown\n",
    "        E_2k15          energy sum over 15 kspan from k [30;44]\n",
    " "
   ]
  },
  {
   "cell_type": "code",
   "execution_count": 31,
   "metadata": {},
   "outputs": [
    {
     "data": {
      "text/latex": [
       "\\begin{align}\n",
       "E_{k} & = \\intop_{k}^{k+kclock} P(t) dt = P_{k} * kclock\\\\\n",
       "E & = (P) * kclock = (\\sum_{k=1}^{K} P_{k}) * kclock = \\sum_{k=1}^{K} (P_{k} * kclock) \\\\\n",
       "\\end{align}\n"
      ],
      "text/plain": [
       "<IPython.core.display.Latex object>"
      ]
     },
     "metadata": {},
     "output_type": "display_data"
    }
   ],
   "source": [
    "%%latex\n",
    "\\begin{align}\n",
    "E_{k} & = \\intop_{k}^{k+kclock} P(t) dt = P_{k} * kclock\\\\\n",
    "E & = (P) * kclock = (\\sum_{k=1}^{K} P_{k}) * kclock = \\sum_{k=1}^{K} (P_{k} * kclock) \\\\\n",
    "\\end{align}"
   ]
  },
  {
   "cell_type": "markdown",
   "metadata": {},
   "source": [
    "    energy power relation\n",
    "        due to discretization it is constant during kclock simplifying the integral.\n",
    "        energy/power calculations can be done distributive a*(b+c)= a*b+a*c "
   ]
  },
  {
   "cell_type": "code",
   "execution_count": 32,
   "metadata": {
    "scrolled": true
   },
   "outputs": [
    {
     "data": {
      "text/latex": [
       "\\begin{align}\n",
       "P_{k,r} & = \\begin{cases}\n",
       "        P_{k,r,prod} \\quad & \\text{if } P_{k,r} \\geq 0 \\text{ producer}\\\\\n",
       "        P_{k,r,cons} \\quad & \\text{if } P_{k,r} < 0 \\text{ consumer}\\\\\n",
       "    \\end{cases}\\\\\n",
       "P_{k,r,res}  & = P_{k,r,prod} + P_{k,r,cons} \\\\    \n",
       "\\end{align}\n"
      ],
      "text/plain": [
       "<IPython.core.display.Latex object>"
      ]
     },
     "metadata": {},
     "output_type": "display_data"
    }
   ],
   "source": [
    "%%latex\n",
    "\\begin{align}\n",
    "P_{k,r} & = \\begin{cases}\n",
    "        P_{k,r,prod} \\quad & \\text{if } P_{k,r} \\geq 0 \\text{ producer}\\\\\n",
    "        P_{k,r,cons} \\quad & \\text{if } P_{k,r} < 0 \\text{ consumer}\\\\\n",
    "    \\end{cases}\\\\\n",
    "P_{k,r,res}  & = P_{k,r,prod} + P_{k,r,cons} \\\\    \n",
    "\\end{align}"
   ]
  },
  {
   "cell_type": "markdown",
   "metadata": {},
   "source": [
    "    resource sign conventions, outflow positive, inflow negative\n",
    "        addon: P_k,r,res makes only sense if one resource has two ports."
   ]
  },
  {
   "cell_type": "markdown",
   "metadata": {},
   "source": [
    "#### Power"
   ]
  },
  {
   "cell_type": "code",
   "execution_count": 33,
   "metadata": {},
   "outputs": [
    {
     "data": {
      "text/latex": [
       "\\begin{align} \n",
       "P_{k,j,prod} & = \\sum_{i=1}^{R \\land j} P_{k,j,i,prod} \\quad \\text{and}\\quad  P_{k,j,cons} = \\sum_{i=1}^{R \\land j} P_{k,j,i,cons}\\\\\n",
       "P_{k,j,res} & = P_{k,j,prod} + P_{k,j,cons} = \\sum_{i=1}^{R \\land j} P_{k,j,i} \\\\\n",
       "P_{J,res} & = \\sum_{j=1}^{J} P_{j,res}  \\quad \\text{and}\\quad \n",
       "P_{R,prod} = \\sum_{r=1}^{R} P_{r,prod}\\\\\n",
       "\\end{align}\n"
      ],
      "text/plain": [
       "<IPython.core.display.Latex object>"
      ]
     },
     "metadata": {},
     "output_type": "display_data"
    }
   ],
   "source": [
    "%%latex\n",
    "\\begin{align} \n",
    "P_{k,j,prod} & = \\sum_{i=1}^{R \\land j} P_{k,j,i,prod} \\quad \\text{and}\\quad  P_{k,j,cons} = \\sum_{i=1}^{R \\land j} P_{k,j,i,cons}\\\\\n",
    "P_{k,j,res} & = P_{k,j,prod} + P_{k,j,cons} = \\sum_{i=1}^{R \\land j} P_{k,j,i} \\\\\n",
    "P_{J,res} & = \\sum_{j=1}^{J} P_{j,res}  \\quad \\text{and}\\quad \n",
    "P_{R,prod} = \\sum_{r=1}^{R} P_{r,prod}\\\\\n",
    "\\end{align}"
   ]
  },
  {
   "cell_type": "markdown",
   "metadata": {},
   "source": [
    "    power produced and consumed of peer j at k ktime over its own resource set \n",
    "    power residual of peer j at k ktime over its own resource set\n",
    "    total power of all peers at k ktime\n",
    "    total power of all resources at k ktime"
   ]
  },
  {
   "cell_type": "markdown",
   "metadata": {},
   "source": [
    "### Parameters<a name=\"si3Eitei\"></a>"
   ]
  },
  {
   "cell_type": "code",
   "execution_count": 34,
   "metadata": {
    "scrolled": false
   },
   "outputs": [
    {
     "data": {
      "text/latex": [
       "\\begin{align}\n",
       "SSR_{k,j} & = 1 - \\frac{P_{k,j,res,cons}}{P_{k,j,cons}}\\\\\n",
       "SSR_{j} & = 1 - \\frac{P_{j,res,cons}}{P_{j,cons}}\\\\\n",
       "SCR_{k,j} & = 1 - \\frac{P_{k,j,res,prod}}{P_{k,j,prod}}\\\\ \n",
       "SCR_{j} & = 1 - \\frac{P_{j,res,prod}}{P_{j,prod}}\\\\       \n",
       "\\end{align}\n"
      ],
      "text/plain": [
       "<IPython.core.display.Latex object>"
      ]
     },
     "metadata": {},
     "output_type": "display_data"
    }
   ],
   "source": [
    "%%latex\n",
    "\\begin{align}\n",
    "SSR_{k,j} & = 1 - \\frac{P_{k,j,res,cons}}{P_{k,j,cons}}\\\\\n",
    "SSR_{j} & = 1 - \\frac{P_{j,res,cons}}{P_{j,cons}}\\\\\n",
    "SCR_{k,j} & = 1 - \\frac{P_{k,j,res,prod}}{P_{k,j,prod}}\\\\ \n",
    "SCR_{j} & = 1 - \\frac{P_{j,res,prod}}{P_{j,prod}}\\\\       \n",
    "\\end{align}"
   ]
  },
  {
   "cell_type": "markdown",
   "metadata": {},
   "source": [
    "    self-sufficiency-rate of peer j at k ktime\n",
    "    self-sufficiency-rate of peer j for simulated time\n",
    "    analog the self-consumption rate "
   ]
  },
  {
   "cell_type": "code",
   "execution_count": 35,
   "metadata": {
    "scrolled": false
   },
   "outputs": [
    {
     "data": {
      "text/latex": [
       "\\begin{align}\n",
       "SDR_{k,j} & = \\dfrac{ P_{k,j,prod} }{ -P_{k,j,cons} } \\quad \\text{if }  P_{k,j,cons} \\text{ not 0 else 1}\\\\\n",
       "SDR_{j} & = \\dfrac{ P_{j,prod} }{ -P_{j,cons} }\\\\\n",
       "SDR_{k} & = \\frac{ \\sum_{r=1}^{R} P_{k,r,prod} }{ -\\sum_{i=1}^{R} P_{k,r,cons} }\\\\\n",
       "SDR & = \\frac{ \\sum_{r=1}^{R} P_{r,prod} }{ -\\sum_{i=1}^{R} P_{r,cons} }\\\\         \n",
       "\\end{align}\n"
      ],
      "text/plain": [
       "<IPython.core.display.Latex object>"
      ]
     },
     "metadata": {},
     "output_type": "display_data"
    }
   ],
   "source": [
    "%%latex\n",
    "\\begin{align}\n",
    "SDR_{k,j} & = \\dfrac{ P_{k,j,prod} }{ -P_{k,j,cons} } \\quad \\text{if }  P_{k,j,cons} \\text{ not 0 else 1}\\\\\n",
    "SDR_{j} & = \\dfrac{ P_{j,prod} }{ -P_{j,cons} }\\\\\n",
    "SDR_{k} & = \\frac{ \\sum_{r=1}^{R} P_{k,r,prod} }{ -\\sum_{i=1}^{R} P_{k,r,cons} }\\\\\n",
    "SDR & = \\frac{ \\sum_{r=1}^{R} P_{r,prod} }{ -\\sum_{i=1}^{R} P_{r,cons} }\\\\         \n",
    "\\end{align}"
   ]
  },
  {
   "cell_type": "markdown",
   "metadata": {},
   "source": [
    "    supply-demand-ratio of peer j at k ktime \n",
    "    supply-demand-ratio of peer j\n",
    "    the second two formulas remove the peer and use the r index to make a general statement"
   ]
  },
  {
   "cell_type": "code",
   "execution_count": 36,
   "metadata": {
    "scrolled": true
   },
   "outputs": [
    {
     "data": {
      "text/latex": [
       "\\begin{align}\n",
       "RCR_{k} & = 1 - \\frac{ |\\sum_{j=1}^{J} P_{k,j,res}| }{ \\sum_{j=1}^{J} |P_{k,j,res}| }\\\\\n",
       "RCR_{k,j} & = 1 - \\frac{ |\\sum_{i=1}^{R \\land j} P_{k,r}| }{ \\sum_{i=1}^{R \\land j} |P_{k,r}| }\\\\\n",
       "\\end{align}\n"
      ],
      "text/plain": [
       "<IPython.core.display.Latex object>"
      ]
     },
     "metadata": {},
     "output_type": "display_data"
    }
   ],
   "source": [
    "%%latex\n",
    "\\begin{align}\n",
    "RCR_{k} & = 1 - \\frac{ |\\sum_{j=1}^{J} P_{k,j,res}| }{ \\sum_{j=1}^{J} |P_{k,j,res}| }\\\\\n",
    "RCR_{k,j} & = 1 - \\frac{ |\\sum_{i=1}^{R \\land j} P_{k,r}| }{ \\sum_{i=1}^{R \\land j} |P_{k,r}| }\\\\\n",
    "\\end{align}"
   ]
  },
  {
   "cell_type": "markdown",
   "metadata": {},
   "source": [
    "    residual-cancellation-rate at k ktime\n",
    "        describes anticyclic relation of residual load, [0;1]\n",
    "        the closer to 1 the better peers complement each other in residual power;\n",
    "        describes destructive interference; if P_kJ_res = 0 the RCR_k is 1\n",
    "        example for RCR = 0 and RCR = 1\n",
    "            +---+         +---+\n",
    "            |j0 |         |j0 |\n",
    "            +-------+->   +--------->\n",
    "                |j1 | k   |j1 |     k\n",
    "                +---+     +---+\n",
    "    residual-cancellation-rate of peer j at k ktime\n",
    "        if P_k_Rofj = 0 the RCR_kj is 1"
   ]
  },
  {
   "cell_type": "code",
   "execution_count": 37,
   "metadata": {},
   "outputs": [
    {
     "data": {
      "text/latex": [
       "\\begin{align}\n",
       "GUR_{J} & = \\frac{ \\sum_{k=1}^{K} \\sum_{j=1}^{J} |P_{k,j,res}| }\n",
       "    { \\sum_{k=1}^{K} \\sum_{i=1}^{R \\land J} |P_{k,r}| }\\\\\n",
       "\\end{align}\n"
      ],
      "text/plain": [
       "<IPython.core.display.Latex object>"
      ]
     },
     "metadata": {},
     "output_type": "display_data"
    }
   ],
   "source": [
    "%%latex\n",
    "\\begin{align}\n",
    "GUR_{J} & = \\frac{ \\sum_{k=1}^{K} \\sum_{j=1}^{J} |P_{k,j,res}| }\n",
    "    { \\sum_{k=1}^{K} \\sum_{i=1}^{R \\land J} |P_{k,r}| }\\\\\n",
    "\\end{align}"
   ]
  },
  {
   "cell_type": "markdown",
   "metadata": {},
   "source": [
    "    grid-utilization rate\n",
    "        measure for the percentage of energy flow over smart-meters from J subsystems in/out of the system; or\n",
    "        total absolute residual power of all peers (P_J_res) divided by total absolute power of peer rss; or\n",
    "        of all energyflow how much went over the grid"
   ]
  },
  {
   "cell_type": "markdown",
   "metadata": {},
   "source": [
    "#### Loss"
   ]
  },
  {
   "cell_type": "code",
   "execution_count": 38,
   "metadata": {
    "scrolled": false
   },
   "outputs": [
    {
     "data": {
      "text/latex": [
       "\\begin{align}\n",
       "E_{k,r,loss} & = \\begin{cases}\n",
       "        E_{k,r,loss,ch} \\quad & \\text{if } P_{k,r,set} < 0 \\text{ charge loss and ct_rs='es'}\\\\\n",
       "        E_{k,r,loss,idle} \\quad & \\text{if } P_{k,r,set} = 0 \\text{ idle loss and ct_rs='es'}\\\\\n",
       "        E_{k,r,loss,dch} \\quad & \\text{if } P_{k,r,set} > 0 \\text{ discharge loss and ct_rs='es'}\\\\\n",
       "    \\end{cases}\\\\\n",
       "    \n",
       "E_{k,loss,es} & = \\sum_{i=1}^{|es|} E_{k,i,loss,es}\\\\\n",
       "\n",
       "E_{k,loss,es,idle} & = \\sum_{i=1}^{|es|} E_{k,i,loss,es,idle}\\\\\n",
       "\n",
       "E_{k,j,loss,es} & = \\sum_{i=1}^{|es|\\land j} E_{k,j,i,loss,es}\\\\\n",
       "\n",
       "E_{k,R,loss} & = \\sum_{r=1}^{R} E_{k,r,loss}\\\\\n",
       "\n",
       "E_{k,loss} & = E_{k,R,loss} + E_{k,loss,grid}\\\\\n",
       "\\end{align}\n"
      ],
      "text/plain": [
       "<IPython.core.display.Latex object>"
      ]
     },
     "metadata": {},
     "output_type": "display_data"
    }
   ],
   "source": [
    "%%latex\n",
    "\\begin{align}\n",
    "E_{k,r,loss} & = \\begin{cases}\n",
    "        E_{k,r,loss,ch} \\quad & \\text{if } P_{k,r,set} < 0 \\text{ charge loss and ct_rs='es'}\\\\\n",
    "        E_{k,r,loss,idle} \\quad & \\text{if } P_{k,r,set} = 0 \\text{ idle loss and ct_rs='es'}\\\\\n",
    "        E_{k,r,loss,dch} \\quad & \\text{if } P_{k,r,set} > 0 \\text{ discharge loss and ct_rs='es'}\\\\\n",
    "    \\end{cases}\\\\\n",
    "    \n",
    "E_{k,loss,es} & = \\sum_{i=1}^{|es|} E_{k,i,loss,es}\\\\\n",
    "\n",
    "E_{k,loss,es,idle} & = \\sum_{i=1}^{|es|} E_{k,i,loss,es,idle}\\\\\n",
    "\n",
    "E_{k,j,loss,es} & = \\sum_{i=1}^{|es|\\land j} E_{k,j,i,loss,es}\\\\\n",
    "\n",
    "E_{k,R,loss} & = \\sum_{r=1}^{R} E_{k,r,loss}\\\\\n",
    "\n",
    "E_{k,loss} & = E_{k,R,loss} + E_{k,loss,grid}\\\\\n",
    "\\end{align}"
   ]
  },
  {
   "cell_type": "markdown",
   "metadata": {},
   "source": [
    "    energy loss of resource r of category 'es' at k kspan\n",
    "        since the es is only in one state, non-state losses are considered 0\n",
    "    total energy loss of all es at k kspan\n",
    "    total idle energy loss of all es at k kspan\n",
    "    total energy loss of peer j and its es at k kspan\n",
    "    total energy loss of all resources at k kspan\n",
    "    total energy loss of the system at k kspan"
   ]
  },
  {
   "cell_type": "markdown",
   "metadata": {},
   "source": [
    "#### Notebook version <a name=\"aeDae4ai\"></a>\n",
    "    "
   ]
  },
  {
   "cell_type": "code",
   "execution_count": 39,
   "metadata": {
    "scrolled": true
   },
   "outputs": [
    {
     "data": {
      "text/plain": [
       "{'ipython_version': '7.2.0',\n",
       " 'ipython_path': '/home/user/.pyenv/versions/3.6.4/lib/python3.6/site-packages/IPython',\n",
       " 'commit_source': 'installation',\n",
       " 'commit_hash': '523ed2fe5',\n",
       " 'sys_version': '3.6.4 (default, Mar 26 2018, 14:15:50) \\n[GCC 6.3.0 20170516]',\n",
       " 'sys_executable': '/home/user/.pyenv/versions/3.6.4/bin/python3',\n",
       " 'sys_platform': 'linux',\n",
       " 'platform': 'Linux-4.9.0-9-amd64-x86_64-with-debian-9.9',\n",
       " 'os_name': 'posix',\n",
       " 'default_encoding': 'UTF-8'}"
      ]
     },
     "execution_count": 39,
     "metadata": {},
     "output_type": "execute_result"
    }
   ],
   "source": [
    "from IPython.utils.sysinfo import get_sys_info\n",
    "get_sys_info()"
   ]
  },
  {
   "cell_type": "markdown",
   "metadata": {},
   "source": [
    "#### License notice <a name=\"aeZGe4ai\"></a>"
   ]
  },
  {
   "cell_type": "markdown",
   "metadata": {
    "scrolled": true
   },
   "source": [
    "    MIT License\n",
    "\n",
    "    Copyright (c) 2019\n",
    "        -----BEGIN PUBLIC KEY-----\n",
    "        MIIBIjANBgkqhkiG9w0BAQEFAAOCAQ8AMIIBCgKCAQEAtAgeP1hhQHBHPICTc2ho\n",
    "        vJFNXA2qtf0HjuXXV7i+imaN7RI4hUPQMo4nNCYjeiD3vzAdBTtWRQrI2ONmiFTk\n",
    "        ntAuD0Mg03q+mj/88aawnZbtXBF4QM5sYClInIuW23uhSq17SseWCXtEhmHtz155\n",
    "        4LllN4FBC11/R0shrAvFH4dAn2sM8PBg+FGze2wUaJbEl2rLe+qoek10krbSrpUP\n",
    "        VXCsyVyicR1IaOhldH4I8zpvB6CSPzOkzhQhbxRhxvKwN7kaVlzVGg2u3ccgffHP\n",
    "        dldIk2D14rz0hJ0Ix1qheAQW/+2haBP/lbwW2iLtiyC47sVeDbCpd66Zi9lKDUe4\n",
    "        nwIDAQAB\n",
    "        -----END PUBLIC KEY-----\n",
    "\n",
    "    Permission is hereby granted, free of charge, to any person obtaining a copy\n",
    "    of this software and associated documentation files (the \"Software\"), to deal\n",
    "    in the Software without restriction, including without limitation the rights\n",
    "    to use, copy, modify, merge, publish, distribute, sublicense, and/or sell\n",
    "    copies of the Software, and to permit persons to whom the Software is\n",
    "    furnished to do so, subject to the following conditions:\n",
    "\n",
    "    The above copyright notice and this permission notice shall be included in all\n",
    "    copies or substantial portions of the Software.\n",
    "\n",
    "    THE SOFTWARE IS PROVIDED \"AS IS\", WITHOUT WARRANTY OF ANY KIND, EXPRESS OR\n",
    "    IMPLIED, INCLUDING BUT NOT LIMITED TO THE WARRANTIES OF MERCHANTABILITY,\n",
    "    FITNESS FOR A PARTICULAR PURPOSE AND NONINFRINGEMENT. IN NO EVENT SHALL THE\n",
    "    AUTHORS OR COPYRIGHT HOLDERS BE LIABLE FOR ANY CLAIM, DAMAGES OR OTHER\n",
    "    LIABILITY, WHETHER IN AN ACTION OF CONTRACT, TORT OR OTHERWISE, ARISING FROM,\n",
    "    OUT OF OR IN CONNECTION WITH THE SOFTWARE OR THE USE OR OTHER DEALINGS IN THE\n",
    "    SOFTWARE."
   ]
  },
  {
   "cell_type": "markdown",
   "metadata": {},
   "source": [
    "    https://tldrlegal.com/license/mit-license"
   ]
  }
 ],
 "metadata": {
  "kernelspec": {
   "display_name": "Python 3",
   "language": "python",
   "name": "python3"
  },
  "language_info": {
   "codemirror_mode": {
    "name": "ipython",
    "version": 3
   },
   "file_extension": ".py",
   "mimetype": "text/x-python",
   "name": "python",
   "nbconvert_exporter": "python",
   "pygments_lexer": "ipython3",
   "version": "3.6.4"
  }
 },
 "nbformat": 4,
 "nbformat_minor": 2
}
